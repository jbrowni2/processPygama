{
 "cells": [
  {
   "cell_type": "code",
   "execution_count": 2,
   "metadata": {},
   "outputs": [],
   "source": [
    "import sys\n",
    "import matplotlib.pyplot as plt\n",
    "import numpy as np\n",
    "import pandas as pd\n",
    "import h5py \n",
    "import json\n",
    "import copy\n",
    "from collections import OrderedDict\n",
    "from lmfit import Model\n",
    "import os\n",
    "from scipy import stats\n",
    "\n",
    "from pygama.pargen.dsp_optimize import run_one_dsp\n",
    "from pygama.pargen.dsp_optimize import run_grid\n",
    "from pygama.pargen.dsp_optimize import ParGrid\n",
    "from pygama.lgdo.lh5_store import LH5Store\n",
    "import pygama.math.histogram as pgh\n",
    "import pygama.math.peak_fitting as pgf\n",
    "from pygama import __version__ as pygama_version\n",
    "import pygama\n",
    "import pygama.lgdo as lgdo\n",
    "import pygama.lgdo.lh5_store as lh5\n",
    "\n",
    "\n",
    "sys.path.insert(1, '../analysis/')\n",
    "import processes.foundation as fd\n",
    "import processes.fitModel as fM\n",
    "import processes.histogramAction as hA\n",
    "\n",
    "import scipy.signal as sig"
   ]
  },
  {
   "cell_type": "code",
   "execution_count": 48,
   "metadata": {},
   "outputs": [
    {
     "ename": "TypeError",
     "evalue": "'list' object is not callable",
     "output_type": "error",
     "traceback": [
      "\u001b[0;31m---------------------------------------------------------------------------\u001b[0m",
      "\u001b[0;31mTypeError\u001b[0m                                 Traceback (most recent call last)",
      "\u001b[1;32m/home/jlb1694/processPygama/dsp/trapFilter.ipynb Cell 2\u001b[0m in \u001b[0;36m<cell line: 1>\u001b[0;34m()\u001b[0m\n\u001b[0;32m----> <a href='vscode-notebook-cell:/home/jlb1694/processPygama/dsp/trapFilter.ipynb#X11sZmlsZQ%3D%3D?line=0'>1</a>\u001b[0m myrange \u001b[39m=\u001b[39m \u001b[39mlist\u001b[39m(\u001b[39mrange\u001b[39;49m(\u001b[39m1\u001b[39;49m, \u001b[39m10\u001b[39;49m))\n\u001b[1;32m      <a href='vscode-notebook-cell:/home/jlb1694/processPygama/dsp/trapFilter.ipynb#X11sZmlsZQ%3D%3D?line=1'>2</a>\u001b[0m \u001b[39mprint\u001b[39m(myrange)\n",
      "\u001b[0;31mTypeError\u001b[0m: 'list' object is not callable"
     ]
    }
   ],
   "source": []
  },
  {
   "cell_type": "code",
   "execution_count": 22,
   "metadata": {},
   "outputs": [
    {
     "name": "stdout",
     "output_type": "stream",
     "text": [
      "1397\n",
      "1398\n",
      "1399\n",
      "1400\n",
      "1401\n",
      "1402\n",
      "1403\n",
      "1404\n",
      "1405\n",
      "1406\n"
     ]
    }
   ],
   "source": [
    "cwd = os.getcwd()\n",
    "file = cwd + '/address.json'\n",
    "with open(file, 'r') as read_file:\n",
    "    data = json.load(read_file)\n",
    "\n",
    "runs = list(np.arange(1397,1407,1))\n",
    "\n",
    "\n",
    "rise = int(5*1000/8)\n",
    "flat = int(0.5*1000/8)\n",
    "\n",
    "trapFilter = np.zeros(2*rise + flat)\n",
    "\n",
    "trapFilter[0:rise] = 1.0\n",
    "trapFilter[rise+1:flat+rise] = 0.0\n",
    "trapFilter[rise+flat+1:] = -1.0\n",
    "\n",
    "t1_data = fd.get_t1_data(1396, \"Card1\")\n",
    "\n",
    "\n",
    "trapWave = np.zeros((len(t1_data[0][\"waveform\"][\"values\"].nda), len(t1_data[0][\"waveform\"][\"values\"].nda[0])- len(trapFilter)+1))\n",
    "for i,wave in enumerate(t1_data[0][\"waveform\"][\"values\"].nda):\n",
    "    trapWave[i] = sig.convolve(wave, trapFilter, \"valid\")\n",
    "    trapWave[i] = trapWave[i]/len(trapFilter)\n",
    "\n",
    "\n",
    "\n",
    "\n",
    "\n",
    "for i,run in enumerate(runs):\n",
    "    print(run)\n",
    "    try:\n",
    "        t1_data = fd.get_t1_data(run, \"Card1\")\n",
    "\n",
    "\n",
    "\n",
    "        hold = np.zeros((len(t1_data[0][\"waveform\"][\"values\"].nda), len(t1_data[0][\"waveform\"][\"values\"].nda[0])- len(trapFilter)+1))\n",
    "        for i,wave in enumerate(t1_data[0][\"waveform\"][\"values\"].nda):\n",
    "            hold[i] = sig.convolve(wave, trapFilter, \"valid\")\n",
    "            hold[i] = hold[i]/(len(trapFilter))\n",
    "\n",
    "        trapWave = np.concatenate(trapWave,hold)\n",
    "    except:\n",
    "        continue"
   ]
  },
  {
   "cell_type": "code",
   "execution_count": 23,
   "metadata": {},
   "outputs": [],
   "source": [
    "trapEmax = np.zeros(len(trapWave))\n",
    "for i,wave in enumerate(trapWave):\n",
    "    wave = wave - np.mean(wave[0:10000])\n",
    "    trapEmax[i] = max(wave)"
   ]
  },
  {
   "cell_type": "code",
   "execution_count": 20,
   "metadata": {},
   "outputs": [
    {
     "data": {
      "image/png": "[encoded data removed]",
      "text/plain": [
       "<Figure size 432x288 with 1 Axes>"
      ]
     },
     "metadata": {
      "needs_background": "light"
     },
     "output_type": "display_data"
    }
   ],
   "source": [
    "plt.hist(trapEmax, histtype=\"step\",bins=60000)\n",
    "plt.xlim(3000,5000)\n",
    "plt.ylim(0,100)\n",
    "#plt.yscale(\"log\")\n",
    "plt.show()"
   ]
  },
  {
   "cell_type": "code",
   "execution_count": 21,
   "metadata": {},
   "outputs": [
    {
     "name": "stdout",
     "output_type": "stream",
     "text": [
      "0.09014975075925065\n",
      "-0.38570333596453565\n"
     ]
    },
    {
     "data": {
      "image/png": "[encoded data removed]",
      "text/plain": [
       "<Figure size 432x288 with 1 Axes>"
      ]
     },
     "metadata": {
      "needs_background": "light"
     },
     "output_type": "display_data"
    }
   ],
   "source": [
    "peaks = [[1320, 1400], [2600,3000], [3500,4200]]\n",
    "\n",
    "\n",
    "energy = [121.78, 244.70, 344.28]\n",
    "\n",
    "counts, bins, bars = plt.hist(trapEmax, histtype='step', bins=160000)\n",
    "\n",
    "adc=[]\n",
    "for range in peaks:\n",
    "        peak_range = hA.find_nearest_bin(bins, range[0]), hA.find_nearest_bin(bins, range[1])\n",
    "        peak_idx = np.argmax(counts[peak_range[0]:peak_range[1]]) + peak_range[0]\n",
    "        peak = bins[peak_idx]\n",
    "        adc.append(peak)\n",
    "\n",
    "\n",
    "\n",
    "slope, intercept, r_value, p_value, std_err = stats.linregress(adc,energy)\n",
    "\n",
    "\n",
    "print(slope)\n",
    "print(intercept)"
   ]
  },
  {
   "cell_type": "code",
   "execution_count": 32,
   "metadata": {},
   "outputs": [],
   "source": [
    "m = 0.09014975075925065\n",
    "c = -0.38570333596453565\n",
    "energy = [m*x+c for x in trapEmax]"
   ]
  },
  {
   "cell_type": "code",
   "execution_count": 28,
   "metadata": {},
   "outputs": [
    {
     "data": {
      "image/png": "[encoded data removed]",
      "text/plain": [
       "<Figure size 432x288 with 1 Axes>"
      ]
     },
     "metadata": {
      "needs_background": "light"
     },
     "output_type": "display_data"
    }
   ],
   "source": [
    "plt.hist(energy, histtype=\"step\", bins=200000)\n",
    "plt.xlim(43,44)\n",
    "plt.ylim(0, 250)\n",
    "plt.show()"
   ]
  },
  {
   "cell_type": "code",
   "execution_count": 33,
   "metadata": {},
   "outputs": [
    {
     "name": "stdout",
     "output_type": "stream",
     "text": [
      "0.1508358393519507\n",
      "0.1624669687352019\n",
      "0.0013091561336284986\n"
     ]
    },
    {
     "data": {
      "image/png": "[encoded data removed]",
      "text/plain": [
       "<Figure size 432x288 with 1 Axes>"
      ]
     },
     "metadata": {
      "needs_background": "light"
     },
     "output_type": "display_data"
    }
   ],
   "source": [
    "counts, bins, bars = plt.hist(energy, histtype='step', bins=200000)\n",
    "\n",
    "lower = hA.find_nearest_bin(bins,30)\n",
    "upper = hA.find_nearest_bin(bins,50)\n",
    "ydata = counts[lower:upper]\n",
    "xdata = bins[lower:upper]\n",
    "\n",
    "\n",
    "    \n",
    "#gmodel = Model(fM.linDubGaus)\n",
    "gmodel = Model(fM.linDubGaus)\n",
    "i = np.argmax(ydata)\n",
    "#params = gmodel.make_params(A=700, m1=315.5, s1=0.5, H_tail=-0.000001, H_step=1, tau=-0.5, slope=-6, intrcpt=180)\n",
    "params = gmodel.make_params(a1=400, m1=xdata[i], s1=0.07, a2=400, m2=xdata[i]+0.15, s2=0.07, slope=-0.046, intrcpt=58)\n",
    "#params['s1'].vary = False\n",
    "result = gmodel.fit(ydata,params, x=xdata)\n",
    "\n",
    "sigma1 = result.params['s1'].value\n",
    "fw1 = 2.355*sigma1\n",
    "err = result.params['s1'].stderr\n",
    "err1 = err*2.355\n",
    "sigma2 = result.params['s2'].value\n",
    "fw2 = 2.355*sigma2\n",
    "energy = result.params['m1'].value\n",
    "print(fw1)\n",
    "print(fw2)\n",
    "print(err1)\n",
    "\n",
    "\n",
    "plt.xlim(40, 50)\n",
    "plt.ylim(0, 200)\n",
    "plt.xlabel(\"Energy [keV]\")\n",
    "plt.ylabel(\"Counts\")\n",
    "plt.plot(xdata, result.best_fit, 'r-', label='best fit')\n",
    "#plt.text(42,100, \"FWHM = 0.0776(5) keV\")\n",
    "plt.title(\"Fit of RMS Noise from Ge Detector 1724\")\n",
    "plt.show()\n"
   ]
  },
  {
   "cell_type": "code",
   "execution_count": null,
   "metadata": {},
   "outputs": [],
   "source": [
    "fw = [0.09399584143811916, ]\n",
    "rise = [5.0, ]\n",
    "flat = [0.5, ]\n",
    "err = [0.00090855841966558, ]"
   ]
  },
  {
   "cell_type": "code",
   "execution_count": 2,
   "metadata": {},
   "outputs": [],
   "source": [
    "cwd = os.getcwd()\n",
    "file = cwd + '/address.json'\n",
    "with open(file, 'r') as read_file:\n",
    "    data = json.load(read_file)\n",
    "\n",
    "file = data[\"tier1_dir\"] + \"/opt\"\n",
    "optSto = LH5Store(file)\n",
    "tb_wfs, nwfs = optSto.read_object('Card1/',\"Run19.lh5\")\n",
    "\n"
   ]
  },
  {
   "cell_type": "code",
   "execution_count": 6,
   "metadata": {},
   "outputs": [
    {
     "name": "stdout",
     "output_type": "stream",
     "text": [
      "-0.00022225419264472866\n",
      "1.1377392536230588\n"
     ]
    },
    {
     "ename": "TypeError",
     "evalue": "'numpy.float64' object does not support item assignment",
     "output_type": "error",
     "traceback": [
      "\u001b[0;31m---------------------------------------------------------------------------\u001b[0m",
      "\u001b[0;31mTypeError\u001b[0m                                 Traceback (most recent call last)",
      "\u001b[1;32m/home/jlb1694/processPygama/dsp/trapFilter.ipynb Cell 11\u001b[0m in \u001b[0;36m<cell line: 9>\u001b[0;34m()\u001b[0m\n\u001b[1;32m     <a href='vscode-notebook-cell:/home/jlb1694/processPygama/dsp/trapFilter.ipynb#X13sZmlsZQ%3D%3D?line=64'>65</a>\u001b[0m     \u001b[39mprint\u001b[39m(fw2)\n\u001b[1;32m     <a href='vscode-notebook-cell:/home/jlb1694/processPygama/dsp/trapFilter.ipynb#X13sZmlsZQ%3D%3D?line=66'>67</a>\u001b[0m     fw[i] \u001b[39m=\u001b[39m fw1\n\u001b[0;32m---> <a href='vscode-notebook-cell:/home/jlb1694/processPygama/dsp/trapFilter.ipynb#X13sZmlsZQ%3D%3D?line=67'>68</a>\u001b[0m     err[i] \u001b[39m=\u001b[39m err1\n\u001b[1;32m     <a href='vscode-notebook-cell:/home/jlb1694/processPygama/dsp/trapFilter.ipynb#X13sZmlsZQ%3D%3D?line=70'>71</a>\u001b[0m df \u001b[39m=\u001b[39m pd\u001b[39m.\u001b[39mDataFrame({\u001b[39m\"\u001b[39m\u001b[39mFWHM\u001b[39m\u001b[39m\"\u001b[39m: fw, \u001b[39m\"\u001b[39m\u001b[39mrise\u001b[39m\u001b[39m\"\u001b[39m: rise_arr, \u001b[39m\"\u001b[39m\u001b[39mflat\u001b[39m\u001b[39m\"\u001b[39m: flats, \u001b[39m\"\u001b[39m\u001b[39merror\u001b[39m\u001b[39m\"\u001b[39m: err})\n\u001b[1;32m     <a href='vscode-notebook-cell:/home/jlb1694/processPygama/dsp/trapFilter.ipynb#X13sZmlsZQ%3D%3D?line=71'>72</a>\u001b[0m df\u001b[39m.\u001b[39mto_csv(\u001b[39m\"\u001b[39m\u001b[39mRiseNoiseChange1725scipyTrap.csv\u001b[39m\u001b[39m\"\u001b[39m)\n",
      "\u001b[0;31mTypeError\u001b[0m: 'numpy.float64' object does not support item assignment"
     ]
    }
   ],
   "source": [
    "rise_arr = np.linspace(5,150,10)\n",
    "flat_arr = np.linspace(0.8,0.8,1)\n",
    "\n",
    "fw = np.zeros(len(rise_arr))\n",
    "err = np.zeros(len(rise_arr))\n",
    "flats = np.ones(len(rise_arr))*0.8\n",
    "flat = int(0.8*1000/8)\n",
    "\n",
    "for i, rise in enumerate(rise_arr):\n",
    "\n",
    "\n",
    "    rise = int(rise*1000/8)\n",
    "    flat = int(0.5*1000/8)\n",
    "\n",
    "    trapFilter = np.zeros(2*rise + flat)\n",
    "\n",
    "    trapFilter[0:rise] = 1.0\n",
    "    trapFilter[rise+1:flat+rise] = 0.0\n",
    "    trapFilter[rise+flat+1:] = -1.0\n",
    "\n",
    "\n",
    "    trapWave = np.zeros((len(tb_wfs[\"waveform\"][\"values\"].nda), len(tb_wfs[\"waveform\"][\"values\"].nda[0])- len(trapFilter)+1))\n",
    "    for j,wave in enumerate(tb_wfs[\"waveform\"][\"values\"].nda):\n",
    "        trapWave[j] = sig.convolve(wave, trapFilter, \"valid\")\n",
    "\n",
    "\n",
    "    trapEmax = np.zeros(len(trapWave))\n",
    "    for j,wave in enumerate(trapWave):\n",
    "        wave = wave - np.mean(wave[0:10000])\n",
    "        trapEmax[j] = max(wave)\n",
    "\n",
    "    m = 4.28206127617879e-05\n",
    "    c = 0.13105995804698978\n",
    "    energy = [m*x+c for x in trapEmax]\n",
    "\n",
    "    binning = np.linspace(30,50,num=30000)\n",
    "    \n",
    "    energy\n",
    "    #counts, bins, bars = plt.hist(energy, histtype='step', bins=100000)\n",
    "    counts, bins = np.histogram(energy,bins=binning)\n",
    "\n",
    "    lower = hA.find_nearest_bin(bins,30)\n",
    "    upper = hA.find_nearest_bin(bins,50)\n",
    "    ydata = counts[lower:upper]\n",
    "    xdata = bins[lower:upper]\n",
    "\n",
    "\n",
    "    \n",
    "    #gmodel = Model(fM.linDubGaus)\n",
    "    gmodel = Model(fM.linDubGaus)\n",
    "    n = np.argmax(ydata)\n",
    "    #params = gmodel.make_params(A=700, m1=315.5, s1=0.5, H_tail=-0.000001, H_step=1, tau=-0.5, slope=-6, intrcpt=180)\n",
    "    params = gmodel.make_params(a1=400, m1=xdata[n], s1=0.07, a2=400, m2=xdata[i]+0.15, s2=0.07, slope=-0.046, intrcpt=58)\n",
    "    #params['s1'].vary = False\n",
    "    result = gmodel.fit(ydata,params, x=xdata)\n",
    "\n",
    "    sigma1 = result.params['s1'].value\n",
    "    fw1 = 2.355*sigma1\n",
    "    err = result.params['s1'].stderr\n",
    "    err1 = err*2.355\n",
    "    sigma2 = result.params['s2'].value\n",
    "    fw2 = 2.355*sigma2\n",
    "    energy = result.params['m1'].value\n",
    "    print(fw1)\n",
    "    print(fw2)\n",
    "\n",
    "    fw[i] = fw1\n",
    "    err[i] = err1\n",
    "\n",
    "\n",
    "df = pd.DataFrame({\"FWHM\": fw, \"rise\": rise_arr, \"flat\": flats, \"error\": err})\n",
    "df.to_csv(\"RiseNoiseChange1725scipyTrap.csv\")\n",
    "\n",
    "\n",
    "\n",
    "    "
   ]
  },
  {
   "cell_type": "code",
   "execution_count": null,
   "metadata": {},
   "outputs": [],
   "source": []
  }
 ],
 "metadata": {
  "kernelspec": {
   "display_name": "Python 3.9.14 64-bit",
   "language": "python",
   "name": "python3"
  },
  "language_info": {
   "codemirror_mode": {
    "name": "ipython",
    "version": 3
   },
   "file_extension": ".py",
   "mimetype": "text/x-python",
   "name": "python",
   "nbconvert_exporter": "python",
   "pygments_lexer": "ipython3",
   "version": "3.9.14"
  },
  "orig_nbformat": 4,
  "vscode": {
   "interpreter": {
    "hash": "f9f85f796d01129d0dd105a088854619f454435301f6ffec2fea96ecbd9be4ac"
   }
  }
 },
 "nbformat": 4,
 "nbformat_minor": 2
}
