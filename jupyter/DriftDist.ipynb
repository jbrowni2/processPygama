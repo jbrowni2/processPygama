{
 "cells": [
  {
   "cell_type": "code",
   "execution_count": 1,
   "id": "da77b9ac",
   "metadata": {},
   "outputs": [],
   "source": [
    "import numpy as np\n",
    "import pandas as pd\n",
    "from statistics import mean\n",
    "import matplotlib.pyplot as plt\n",
    "import json\n",
    "import os\n",
    "import processes.foundation as fd\n",
    "import plotly.express as px\n",
    "import sys"
   ]
  },
  {
   "cell_type": "code",
   "execution_count": null,
   "id": "1ac74d6e",
   "metadata": {},
   "outputs": [],
   "source": [
    "run_start = 3454\n",
    "run_stop = 3499\n",
    "runs = [x for x in range(run_start,run_stop)]\n",
    "t2_data = fd.get_df_multiple(runs, 'Card1')\n",
    "dt = []"
   ]
  },
  {
   "cell_type": "code",
   "execution_count": null,
   "id": "547d3781",
   "metadata": {},
   "outputs": [],
   "source": [
    "chNaI = 9\n",
    "chGe = 11\n",
    "for i in range(1, len(t2_data[\"tp_50\"])-1):\n",
    "    if t2_data[\"channel\"].loc[i] == chNaI and t2_data[\"channel\"].loc[i+1] == chGe:\n",
    "        time1 = (t2_data[\"tp_50\"].loc[i])\n",
    "        time2 = (t2_data[\"tp_50\"].loc[i+1])\n",
    "        dt.append(time2-time1)"
   ]
  },
  {
   "cell_type": "code",
   "execution_count": null,
   "id": "459922ec",
   "metadata": {},
   "outputs": [],
   "source": [
    "plt.hist(dt, histtype='step', bins=3000)\n",
    "plt.xlim(0,2000)\n",
    "plt.xlabel(\"ns\")\n",
    "plt.show()"
   ]
  }
 ],
 "metadata": {
  "kernelspec": {
   "display_name": "Python 3 (ipykernel)",
   "language": "python",
   "name": "python3"
  },
  "language_info": {
   "codemirror_mode": {
    "name": "ipython",
    "version": 3
   },
   "file_extension": ".py",
   "mimetype": "text/x-python",
   "name": "python",
   "nbconvert_exporter": "python",
   "pygments_lexer": "ipython3",
   "version": "3.9.13"
  }
 },
 "nbformat": 4,
 "nbformat_minor": 5
}
