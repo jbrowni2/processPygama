{
 "cells": [
  {
   "cell_type": "code",
   "execution_count": 1,
   "id": "8babb6ee",
   "metadata": {},
   "outputs": [],
   "source": [
    "import matplotlib.pyplot as plt\n",
    "import pandas as pd\n",
    "import numpy as np\n",
    "import os\n",
    "from scipy import stats\n",
    "from math import exp\n",
    "import processes.foundation as fd\n",
    "import processes.fitModel as fM\n",
    "import processes.histogramAction as hA\n",
    "from math import exp, sqrt, pi, erfc\n",
    "from lmfit import Model"
   ]
  },
  {
   "cell_type": "code",
   "execution_count": null,
   "id": "2552699c",
   "metadata": {},
   "outputs": [],
   "source": [
    "fw = []\n",
    "energy = []\n",
    "yerr = []\n",
    "\n",
    "runs_list = [[1119,1120,1121,1122], [1124,1125,1126,1127], [1128,1129,1130]]\n",
    "energy_list = [[1172, 1333], [80, 270, 310, 360, 390], [660]]\n",
    "upLow = [[[1072, 1272], [1233, 1433]], [[50, 120], [260, 280], [290, 330], [340, 370], [370, 420]], [[620, 700]]]\n",
    "i = 0"
   ]
  },
  {
   "cell_type": "code",
   "execution_count": null,
   "id": "b4f2c49c",
   "metadata": {},
   "outputs": [],
   "source": [
    "for runs in runs_list:\n",
    "    t2_data = fd.get_df_multiple(runs, 'Card1')\n",
    "\n",
    "    counts, bins, bars = plt.hist(t2_data['trapEmax'], histtype='step', bins=160000)\n",
    "    j = 0\n",
    "    for ran in upLow[i]:\n",
    "        lower = hA.find_nearest_bin(bins,ran[0])\n",
    "        upper = hA.find_nearest_bin(bins,ran[1])\n",
    "        ydata = counts[lower:upper]\n",
    "        xdata = bins[lower:upper]\n",
    "\n",
    "        gmodel = Model(fM.lingaus)\n",
    "        #params = gmodel.make_params(A=700, m1=315.5, s1=0.5, H_tail=-0.000001, H_step=1, tau=-0.5, slope=-6, intrcpt=180)\n",
    "        params = gmodel.make_params(a1=1000, m1=energy_list[i][j], s1=2.0, slope=-0.046, intrcpt=58)\n",
    "        #params['s1'].vary = False\n",
    "        result = gmodel.fit(ydata,params, x=xdata)\n",
    "\n",
    "        sigma = result.params['s1'].value\n",
    "        fw.append(2.355*sigma)\n",
    "        yerr.append(2.355*result.params['s1'].stderr)\n",
    "        energy.append(result.params['m1'].value)\n",
    "\n",
    "        j += 1\n",
    "    i += 1\n",
    "    \n",
    "print(fw)\n",
    "print(energy)"
   ]
  },
  {
   "cell_type": "code",
   "execution_count": null,
   "id": "4c0b5ffa",
   "metadata": {},
   "outputs": [],
   "source": [
    "\n",
    "#This code fits the resolution map to the equation it should follow.\n",
    "gmodel = Model(fM.res)\n",
    "#params = gmodel.make_params(A=200, m1=277, s1=0.9, H_tail=-1, H_step=-1, tau=-1, slope=-0.12, intrcpt=180)\n",
    "params = gmodel.make_params(m=0.02,intrcpt = 6.0, c = 0.5)\n",
    "#params['intrcpt'].vary = False\n",
    "#params['m'].vary = False\n",
    "#params['c'].vary = False\n",
    "result = gmodel.fit(fw,params, x=energy)\n",
    "\n",
    "\n",
    "print('m',m)\n",
    "print('c',c)\n",
    "print('intrcpt', intrcpt)"
   ]
  },
  {
   "cell_type": "code",
   "execution_count": null,
   "id": "1acc8fa0",
   "metadata": {},
   "outputs": [],
   "source": [
    "m = result.params['m'].value\n",
    "c = result.params['c'].value\n",
    "intrcpt = result.params['intrcpt'].value\n",
    "x = np.arange(0,1500,0.1)\n",
    "y = m*np.power(x + c*(np.power(x,2)),0.5) + intrcpt"
   ]
  },
  {
   "cell_type": "code",
   "execution_count": null,
   "id": "d4e0b51c",
   "metadata": {},
   "outputs": [],
   "source": [
    "plt.errorbar(energy,fw,yerr=yerr, fmt='o')\n",
    "plt.plot(x,y)\n",
    "plt.title(\"Energy Resolution of Detector 1725\")\n",
    "plt.text(0,3.0, \"Function is m*(E + c*(E^2)) + b\")\n",
    "#plt.text(1000,2.0,\"m = 0.003\")\n",
    "#plt.text(1000,1.8,\"c = 0.326\")\n",
    "#plt.text(1000,1.6,\"b = 0.54\")\n",
    "plt.xlabel(\"Energy [KeV]\")\n",
    "plt.ylabel(\"FWHM\")\n",
    "#plt.ylim(0,3.2)\n",
    "plt.show()\n"
   ]
  }
 ],
 "metadata": {
  "kernelspec": {
   "display_name": "Python 3 (ipykernel)",
   "language": "python",
   "name": "python3"
  },
  "language_info": {
   "codemirror_mode": {
    "name": "ipython",
    "version": 3
   },
   "file_extension": ".py",
   "mimetype": "text/x-python",
   "name": "python",
   "nbconvert_exporter": "python",
   "pygments_lexer": "ipython3",
   "version": "3.9.13"
  }
 },
 "nbformat": 4,
 "nbformat_minor": 5
}
