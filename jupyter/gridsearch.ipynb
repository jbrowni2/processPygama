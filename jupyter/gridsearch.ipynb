{
 "cells": [
  {
   "cell_type": "code",
   "execution_count": 2,
   "metadata": {},
   "outputs": [],
   "source": [
    "import sys\n",
    "import matplotlib.pyplot as plt\n",
    "import numpy as np\n",
    "import pandas as pd\n",
    "import h5py \n",
    "import json\n",
    "import copy\n",
    "from collections import OrderedDict\n",
    "from lmfit import Model\n",
    "\n",
    "from pygama.pargen.dsp_optimize import run_one_dsp\n",
    "from pygama.pargen.dsp_optimize import run_grid\n",
    "from pygama.pargen.dsp_optimize import ParGrid\n",
    "from pygama.lgdo.lh5_store import LH5Store\n",
    "import pygama.math.histogram as pgh\n",
    "import pygama.math.peak_fitting as pgf\n",
    "\n",
    "\n",
    "sys.path.insert(1, '../analysis/')\n",
    "import processes.foundation as fd\n",
    "import processes.fitModel as fM\n",
    "import processes.histogramAction as hA\n",
    "\n",
    "\n",
    "sto = LH5Store(\"../../data/raw/\")"
   ]
  },
  {
   "cell_type": "code",
   "execution_count": 3,
   "metadata": {},
   "outputs": [],
   "source": [
    "debug = False\n",
    "\n",
    "hi = 50\n",
    "lo = 40\n",
    "\n",
    "runs = [x for x in range(1396,1407)]\n",
    "f_wfs = 'opt/Run1.lh5'\n",
    "\n",
    "#nevts = 150\n",
    "\n",
    "for i,run in enumerate(runs):\n",
    "\n",
    "    t2_data = fd.get_df(run, 'Card1')\n",
    "    m = 0.0428\n",
    "    c = -0.193\n",
    "\n",
    "    t2_data[\"trapEmax\"] = m*t2_data[\"trapEmax\"] + c\n",
    "    \n",
    "    ecuthi = t2_data[\"trapEmax\"] < hi \n",
    "    ecutlo = t2_data[\"trapEmax\"] > lo\n",
    "\n",
    "    filter_idx = np.asarray(t2_data.index[ecuthi&ecutlo].tolist())\n",
    "    #slim_filter = np.random.choice(filter_idx, nevts)\n",
    "    #slim_filter = np.unique(slim_filter)\n",
    "\n",
    "    runstr = \"Run\"+str(run)+\".lh5\"\n",
    "\n",
    "    tb_in = 'Card1'\n",
    "\n",
    "    tb_wfs, nwfs = sto.read_object('Card1/',[runstr])\n",
    "    sto.write_object(tb_wfs, f'{tb_in}', f_wfs,wo_mode='a')\n"
   ]
  },
  {
   "cell_type": "code",
   "execution_count": 4,
   "metadata": {},
   "outputs": [],
   "source": [
    "conf_file = \"../dspConfigFiles/configSubfirst.json\"\n",
    "with open(conf_file) as f:\n",
    "    dsp_config = json.load(f, object_pairs_hook=OrderedDict)\n"
   ]
  },
  {
   "cell_type": "code",
   "execution_count": 5,
   "metadata": {},
   "outputs": [
    {
     "name": "stderr",
     "output_type": "stream",
     "text": [
      "I don't know what to do with bl_intercept. Building output without it!\n",
      "I don't know what to do with bl_std. Building output without it!\n"
     ]
    }
   ],
   "source": [
    "optSto = LH5Store(\"../../data/raw/opt\")\n",
    "tb_wfs, nwfs = optSto.read_object('Card1/',\"Run1.lh5\")\n",
    "tb_out = run_one_dsp(tb_wfs, dsp_config, verbosity=True)\n"
   ]
  },
  {
   "cell_type": "code",
   "execution_count": 25,
   "metadata": {},
   "outputs": [
    {
     "name": "stdout",
     "output_type": "stream",
     "text": [
      "6906\n"
     ]
    },
    {
     "data": {
      "image/png": "[encoded data removed]",
      "text/plain": [
       "<Figure size 432x288 with 1 Axes>"
      ]
     },
     "metadata": {
      "needs_background": "light"
     },
     "output_type": "display_data"
    }
   ],
   "source": [
    "m = 0.040862505104599725\n",
    "b = -0.1689243143849808\n",
    "calib = m*tb_out['trapEmax'].nda + b\n",
    "plt.hist(calib,bins=300);\n",
    "plt.xlim(115,130)\n",
    "plt.yscale('linear')\n",
    "\n",
    "print(len(calib))"
   ]
  },
  {
   "cell_type": "code",
   "execution_count": 6,
   "metadata": {},
   "outputs": [],
   "source": [
    "# TODO \n",
    "# turn James's fit_peak into a fom\n",
    "# pass fit_peak to run_on\n",
    "\n",
    "def peak_width(tb, verbosity, make_plot=False):\n",
    "\n",
    "    m = 0.0428\n",
    "    b = -0.193\n",
    "    calib = m*tb['trapEmax'].nda + b\n",
    "\n",
    "    binning = np.linspace(30,50,num=30000)\n",
    "    \n",
    "    energy = copy.deepcopy(calib)\n",
    "    #counts, bins, bars = plt.hist(energy, histtype='step', bins=100000)\n",
    "    counts, bins = np.histogram(energy,bins=binning)\n",
    "\n",
    "    lower = hA.find_nearest_bin(bins,30)\n",
    "    upper = hA.find_nearest_bin(bins,50)\n",
    "    ydata = counts[lower:upper]\n",
    "    xdata = bins[lower:upper]\n",
    "\n",
    "    gmodel = Model(fM.linDubGaus)\n",
    "    i = np.argmax(ydata)\n",
    "    #params = gmodel.make_params(A=700, m1=315.5, s1=0.5, H_tail=-0.000001, H_step=1, tau=-0.5, slope=-6, intrcpt=180)\n",
    "    params = gmodel.make_params(a1=400, m1=xdata[i], s1=0.07, a2=400, m2=xdata[i]+0.2, s2=0.07, slope=-0.046, intrcpt=58)\n",
    "    #params['s1'].vary = False\n",
    "    result = gmodel.fit(ydata,params, x=xdata)\n",
    "\n",
    "    sigma1 = result.params['s1'].value\n",
    "    fw1 = 2.355*sigma1\n",
    "    sigma2 = result.params['s2'].value\n",
    "    fw2 = 2.355*sigma2\n",
    "    energy = result.params['m1'].value\n",
    "    print(fw1)\n",
    "    print(fw2)\n",
    "\n",
    "\n",
    "\n",
    "\n",
    "    \"\"\"\n",
    "    gmodel = Model(fM.lingaus)\n",
    "    i = np.argmax(ydata)\n",
    "    #params = gmodel.make_params(A=700, m1=315.5, s1=0.5, H_tail=-0.000001, H_step=1, tau=-0.5, slope=-6, intrcpt=180)\n",
    "    params = gmodel.make_params(a1=1000, m1=xdata[i], s1=0.1, slope=-0.046, intrcpt=0)\n",
    "    #params['s1'].vary = False\n",
    "    result = gmodel.fit(ydata,params, x=xdata)\n",
    "    \n",
    "\n",
    "    sigma = result.params['s1'].value\n",
    "    fw = 2.355*sigma\n",
    "    energy = result.params['m1'].value\n",
    "    \"\"\"\n",
    "\n",
    "    \n",
    "    \n",
    "    if make_plot:\n",
    "        print(fw1)\n",
    "        print(result.fit_report())\n",
    "        plt.hist(calib, histtype='step', bins=binning)\n",
    "        #plt.xlim(115, 125)\n",
    "        #plt.ylim(0,00)\n",
    "        plt.xlabel(\"Energy [keV]\")\n",
    "        plt.plot(xdata, result.best_fit, 'r-', label='best fit')\n",
    "        plt.title(\"Fit of 1724 Pulser FWHM\")\n",
    "        plt.show()\n",
    "\n",
    "    return fw1"
   ]
  },
  {
   "cell_type": "code",
   "execution_count": 9,
   "metadata": {},
   "outputs": [
    {
     "name": "stderr",
     "output_type": "stream",
     "text": [
      "I don't know what to do with bl_intercept. Building output without it!\n",
      "I don't know what to do with bl_std. Building output without it!\n",
      "I don't know what to do with bl_intercept. Building output without it!\n",
      "I don't know what to do with bl_std. Building output without it!\n"
     ]
    },
    {
     "name": "stdout",
     "output_type": "stream",
     "text": [
      "0.1453151709906815\n",
      "0.1649618232656283\n"
     ]
    },
    {
     "name": "stderr",
     "output_type": "stream",
     "text": [
      "I don't know what to do with bl_intercept. Building output without it!\n",
      "I don't know what to do with bl_std. Building output without it!\n"
     ]
    },
    {
     "name": "stdout",
     "output_type": "stream",
     "text": [
      "0.13646306227836158\n",
      "0.17450011358771392\n"
     ]
    },
    {
     "name": "stderr",
     "output_type": "stream",
     "text": [
      "I don't know what to do with bl_intercept. Building output without it!\n",
      "I don't know what to do with bl_std. Building output without it!\n"
     ]
    },
    {
     "name": "stdout",
     "output_type": "stream",
     "text": [
      "0.13957006010929077\n",
      "0.15248663764490572\n"
     ]
    },
    {
     "name": "stderr",
     "output_type": "stream",
     "text": [
      "I don't know what to do with bl_intercept. Building output without it!\n",
      "I don't know what to do with bl_std. Building output without it!\n"
     ]
    },
    {
     "name": "stdout",
     "output_type": "stream",
     "text": [
      "0.13905839633482134\n",
      "0.14568306975942313\n"
     ]
    },
    {
     "name": "stderr",
     "output_type": "stream",
     "text": [
      "I don't know what to do with bl_intercept. Building output without it!\n",
      "I don't know what to do with bl_std. Building output without it!\n"
     ]
    },
    {
     "name": "stdout",
     "output_type": "stream",
     "text": [
      "0.1465198921124803\n",
      "0.16254574428651036\n"
     ]
    },
    {
     "name": "stderr",
     "output_type": "stream",
     "text": [
      "I don't know what to do with bl_intercept. Building output without it!\n",
      "I don't know what to do with bl_std. Building output without it!\n"
     ]
    },
    {
     "name": "stdout",
     "output_type": "stream",
     "text": [
      "0.1376225892682658\n",
      "0.1720727427063442\n"
     ]
    },
    {
     "name": "stderr",
     "output_type": "stream",
     "text": [
      "I don't know what to do with bl_intercept. Building output without it!\n",
      "I don't know what to do with bl_std. Building output without it!\n"
     ]
    },
    {
     "name": "stdout",
     "output_type": "stream",
     "text": [
      "0.1400731613579515\n",
      "0.15209487929422164\n"
     ]
    },
    {
     "name": "stderr",
     "output_type": "stream",
     "text": [
      "I don't know what to do with bl_intercept. Building output without it!\n",
      "I don't know what to do with bl_std. Building output without it!\n"
     ]
    },
    {
     "name": "stdout",
     "output_type": "stream",
     "text": [
      "0.13958602687600355\n",
      "0.14573719588491488\n"
     ]
    },
    {
     "name": "stderr",
     "output_type": "stream",
     "text": [
      "I don't know what to do with bl_intercept. Building output without it!\n",
      "I don't know what to do with bl_std. Building output without it!\n"
     ]
    },
    {
     "name": "stdout",
     "output_type": "stream",
     "text": [
      "0.1469451760471859\n",
      "0.16378235980733752\n"
     ]
    },
    {
     "name": "stderr",
     "output_type": "stream",
     "text": [
      "I don't know what to do with bl_intercept. Building output without it!\n",
      "I don't know what to do with bl_std. Building output without it!\n"
     ]
    },
    {
     "name": "stdout",
     "output_type": "stream",
     "text": [
      "0.1387937774784472\n",
      "0.17087887042919417\n"
     ]
    },
    {
     "name": "stderr",
     "output_type": "stream",
     "text": [
      "I don't know what to do with bl_intercept. Building output without it!\n",
      "I don't know what to do with bl_std. Building output without it!\n"
     ]
    },
    {
     "name": "stdout",
     "output_type": "stream",
     "text": [
      "0.140473924231241\n",
      "0.1530757605686483\n",
      "0.13979039741185115\n",
      "0.14670187990680275\n"
     ]
    }
   ],
   "source": [
    "rise_arr = np.linspace(6,10,4)\n",
    "flat_arr = np.linspace(0.5,0.8,3)\n",
    "\n",
    "rr, ff = np.meshgrid(rise_arr, flat_arr)\n",
    "zz = np.zeros_like(rr)\n",
    "\n",
    "\n",
    "for i,flat in enumerate(flat_arr):\n",
    "    for j,rise in enumerate(rise_arr):\n",
    "        flat_units = str(flat)+'*us'\n",
    "        rise_units = str(rise)+'*us'\n",
    "        args = ['sub1',rise_units,flat_units,'wf_trap']\n",
    "        dsp_config['processors']['wf_trap']['args'] = args\n",
    "\n",
    "        fom = run_one_dsp(tb_wfs, dsp_config,fom_function=peak_width, verbosity=True)\n",
    "\n",
    "        zz[i,j] = fom\n",
    "\n",
    "\n",
    "\n"
   ]
  },
  {
   "cell_type": "code",
   "execution_count": 11,
   "metadata": {},
   "outputs": [
    {
     "data": {
      "text/plain": [
       "Text(33.0, 0.5, 'flat time [us]')"
      ]
     },
     "execution_count": 11,
     "metadata": {},
     "output_type": "execute_result"
    },
    {
     "data": {
      "image/png": "[encoded data removed]",
      "text/plain": [
       "<Figure size 432x288 with 2 Axes>"
      ]
     },
     "metadata": {
      "needs_background": "light"
     },
     "output_type": "display_data"
    }
   ],
   "source": [
    "import seaborn as sns\n",
    "sns.set_theme\n",
    "\n",
    "x_axis_labels = rise_arr\n",
    "y_axis_labels = flat_arr\n",
    "\n",
    "ax = sns.heatmap(zz,vmin=0.135,vmax=0.145,linewidths=0.5,cmap=\"YlGnBu\",xticklabels=x_axis_labels,yticklabels=y_axis_labels)\n",
    "ax.set_xlabel('rise time [us]')\n",
    "ax.set_ylabel('flat time [us]')\n"
   ]
  },
  {
   "cell_type": "code",
   "execution_count": 86,
   "metadata": {},
   "outputs": [
    {
     "data": {
      "text/plain": [
       "array([[0.65985367, 0.62757357, 0.61536467, 0.6096737 , 0.62770978],\n",
       "       [0.66009115, 0.62409992, 0.61197224, 0.61915409, 0.62882018],\n",
       "       [0.65282971, 0.6188371 , 0.615222  , 0.62631445, 0.63715769],\n",
       "       [0.6350284 , 0.61684482, 0.62422735, 0.63135812, 0.6421066 ],\n",
       "       [0.62391004, 0.62324805, 0.63472141, 0.63423118, 0.64886411]])"
      ]
     },
     "execution_count": 86,
     "metadata": {},
     "output_type": "execute_result"
    }
   ],
   "source": [
    "zz"
   ]
  },
  {
   "cell_type": "code",
   "execution_count": 90,
   "metadata": {},
   "outputs": [],
   "source": [
    "flat_units = str(15)+'*us'\n",
    "rise_units = str(15)+'*us'\n",
    "args = ['wf_mw',rise_units,flat_units,'wf_trap']\n",
    "dsp_config['processors']['wf_trap']['args'] = args\n",
    "\n",
    "\n",
    "optSto = LH5Store(\"../data/raw/opt\")\n",
    "tb_wfs, nwfs = optSto.read_object('Card1/',\"Run17.lh5\")\n",
    "tb_out = run_one_dsp(tb_wfs, dsp_config, db_dict=dsp_db, verbosity=True)"
   ]
  },
  {
   "cell_type": "code",
   "execution_count": 91,
   "metadata": {},
   "outputs": [
    {
     "data": {
      "image/png": "[encoded data removed]",
      "text/plain": [
       "<Figure size 432x288 with 1 Axes>"
      ]
     },
     "metadata": {
      "needs_background": "light"
     },
     "output_type": "display_data"
    }
   ],
   "source": [
    "m = 0.040862505104599725\n",
    "b = -0.1689243143849808\n",
    "calib = m*tb_out['trapEmax'].nda + b\n",
    "plt.hist(calib,bins=300);\n",
    "plt.xlim(115,125)\n",
    "plt.yscale('linear')"
   ]
  },
  {
   "cell_type": "code",
   "execution_count": 92,
   "metadata": {},
   "outputs": [
    {
     "name": "stdout",
     "output_type": "stream",
     "text": [
      "0.60967370093961\n",
      "[[Model]]\n",
      "    Model(lingaus)\n",
      "[[Fit Statistics]]\n",
      "    # fitting method   = leastsq\n",
      "    # function evals   = 43\n",
      "    # data points      = 299\n",
      "    # variables        = 5\n",
      "    chi-square         = 38935.5700\n",
      "    reduced chi-square = 132.433911\n",
      "    Akaike info crit   = 1465.89676\n",
      "    Bayesian info crit = 1484.39898\n",
      "[[Variables]]\n",
      "    a1:       133.715106 +/- 3.86429073 (2.89%) (init = 1000)\n",
      "    m1:       122.207563 +/- 0.00851300 (0.01%) (init = 122.1237)\n",
      "    s1:       0.25888480 +/- 0.00889579 (3.44%) (init = 0.1)\n",
      "    slope:    1.57515483 +/- 0.24251040 (15.40%) (init = -0.046)\n",
      "    intrcpt: -180.264704 +/- 29.0199446 (16.10%) (init = 0)\n",
      "[[Correlations]] (unreported correlations are < 0.100)\n",
      "    C(slope, intrcpt) = -1.000\n",
      "    C(a1, s1)         = -0.493\n",
      "    C(s1, slope)      = -0.193\n",
      "    C(s1, intrcpt)    = 0.187\n",
      "    C(a1, slope)      = -0.114\n",
      "    C(a1, intrcpt)    = 0.111\n"
     ]
    },
    {
     "data": {
      "image/png": "[encoded data removed]",
      "text/plain": [
       "<Figure size 432x288 with 1 Axes>"
      ]
     },
     "metadata": {
      "needs_background": "light"
     },
     "output_type": "display_data"
    },
    {
     "data": {
      "text/plain": [
       "0.60967370093961"
      ]
     },
     "execution_count": 92,
     "metadata": {},
     "output_type": "execute_result"
    }
   ],
   "source": [
    "peak_width(tb_out,1,True)"
   ]
  },
  {
   "cell_type": "code",
   "execution_count": null,
   "metadata": {},
   "outputs": [],
   "source": []
  }
 ],
 "metadata": {
  "kernelspec": {
   "display_name": "Python 3.9.13 64-bit",
   "language": "python",
   "name": "python3"
  },
  "language_info": {
   "codemirror_mode": {
    "name": "ipython",
    "version": 3
   },
   "file_extension": ".py",
   "mimetype": "text/x-python",
   "name": "python",
   "nbconvert_exporter": "python",
   "pygments_lexer": "ipython3",
   "version": "3.9.13"
  },
  "orig_nbformat": 4,
  "vscode": {
   "interpreter": {
    "hash": "f9f85f796d01129d0dd105a088854619f454435301f6ffec2fea96ecbd9be4ac"
   }
  }
 },
 "nbformat": 4,
 "nbformat_minor": 2
}
