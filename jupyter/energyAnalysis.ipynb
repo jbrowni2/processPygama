{
 "cells": [
  {
   "cell_type": "code",
   "execution_count": 11,
   "metadata": {},
   "outputs": [],
   "source": [
    "import numpy as np\n",
    "import pandas as pd\n",
    "import matplotlib.pyplot as plt\n",
    "import os\n",
    "from scipy import stats\n",
    "from scipy import signal\n",
    "from math import exp\n",
    "import processes.foundation as fd\n",
    "from math import exp, sqrt, pi, erfc\n",
    "from lmfit import Model\n",
    "import csv\n",
    "from scipy.optimize import curve_fit\n",
    "import pywt\n",
    "from statistics import median\n",
    "import copy\n",
    "from matplotlib import colors"
   ]
  },
  {
   "cell_type": "code",
   "execution_count": 41,
   "metadata": {},
   "outputs": [],
   "source": [
    "def sigPulseSpecific(riseMax, riseMin, Energy):\n",
    "    rise = int((riseMax-riseMin)*np.random.random()+riseMin)\n",
    "    energy = Energy\n",
    "\n",
    "\n",
    "\n",
    "    pulse = np.zeros(15000)\n",
    "    x = np.linspace(-rise-40,rise+40,2*rise+81)\n",
    "    y = energy/(1 + np.exp(-x/(0.3*rise)))\n",
    "\n",
    "    pulse[10000: 10000+len(x)] = y\n",
    "    pulse[10000+len(x)::] = y[-1]\n",
    "\n",
    "\n",
    "    return pulse"
   ]
  },
  {
   "cell_type": "code",
   "execution_count": 42,
   "metadata": {},
   "outputs": [],
   "source": [
    "def get_trap_max(wp):\n",
    "    w_trap = np.zeros(len(wp))\n",
    "\n",
    "    rise = int(6/.008)\n",
    "    flat = int(0.8/.008)\n",
    "\n",
    "    w_trap[0] = wp[0]/rise\n",
    "    for i in range(1, rise, 1):\n",
    "        w_trap[i] = w_trap[i - 1] + wp[i] / rise\n",
    "    for i in range(rise, rise + flat, 1):\n",
    "        w_trap[i] = w_trap[i - 1] + (wp[i] - wp[i - rise])/rise\n",
    "    for i in range(rise + flat, 2 * rise + flat, 1):\n",
    "        w_trap[i] = w_trap[i - 1] + (wp[i] - wp[i - rise] - wp[i - rise - flat])/rise\n",
    "    for i in range(2 * rise + flat, len(wp), 1):\n",
    "        w_trap[i] = (\n",
    "        w_trap[i - 1]\n",
    "        + (wp[i]\n",
    "        - wp[i - rise]\n",
    "        - wp[i - rise - flat]\n",
    "        + wp[i - 2 * rise - flat])/rise\n",
    "    )\n",
    "\n",
    "    return np.max(w_trap)"
   ]
  },
  {
   "cell_type": "code",
   "execution_count": 43,
   "metadata": {},
   "outputs": [],
   "source": [
    "#Here is Method 2 which calculates the rise time by using a starting index and going left till it finds a threshold.\n",
    "#Method 1 also uses an RNG sigmoid pulsar.\n",
    "run_list = 9188\n",
    "data = fd.get_t1_data(run_list, \"Card1\")\n",
    "wave = data[0][\"waveform\"][\"values\"].nda[1]\n",
    "\n",
    "energy_Step = 10000\n",
    "energy_lis = np.linspace(0,125,energy_Step)\n",
    "trapEmax = np.zeros(energy_Step)\n",
    "wfEmax = np.zeros(energy_Step)\n",
    "#correct = np.zeros(nb)\n",
    "#false = np.zeros(nb)\n",
    "\n",
    "cDs = pywt.swt(wave, \"haar\", level=4)\n",
    "threshold = np.zeros_like([0,0,0,0])\n",
    "\n",
    "j=0\n",
    "for cD in cDs:\n",
    "    median_value = median(cD[1])\n",
    "    median_average_deviation = median([abs(number-median_value) for number in cD[1]])\n",
    "    sig1 = median_average_deviation/0.6745\n",
    "    threshold[j] = sig1*np.sqrt(2*np.log(len(wave)))\n",
    "    j+=1\n",
    "\n",
    "j=0\n",
    "for cD in cDs:\n",
    "    cD[1][abs(cD[1]) < threshold[j]] = 0.0\n",
    "    j += 1\n",
    "\n",
    "wave = pywt.iswt(cDs, \"Haar\")\n",
    "\n",
    "mean = np.nan\n",
    "stdev = np.nan\n",
    "slope = np.nan\n",
    "intercept = np.nan\n",
    "\n",
    "\n",
    "sum_x = sum_x2 = sum_xy = sum_y = mean = stdev = 0\n",
    "isum = 15000\n",
    "\n",
    "for i in range(0, 15000, 1):\n",
    "    # the mean and standard deviation\n",
    "        temp = wave[i] - mean\n",
    "        mean += temp / (i + 1)\n",
    "        stdev += temp * (wave[i] - mean)\n",
    "\n",
    "        # linear regression\n",
    "        sum_x += i\n",
    "        sum_x2 += i * i\n",
    "        sum_xy += wave[i] * i\n",
    "        sum_y += wave[i]\n",
    "\n",
    "slope = (isum * sum_xy - sum_x * sum_y) / (isum * sum_x2 - sum_x * sum_x)\n",
    "intercept = (sum_y - sum_x * slope) / isum\n",
    "\n",
    "line = np.array([x * slope + intercept for x in range(0, len(wave))])\n",
    "wave = wave - line\n",
    "\n",
    "\n",
    "for i,energy in enumerate(energy_lis):\n",
    "\n",
    "    pulse = sigPulseSpecific(70,50,energy)\n",
    "    wave1 = copy.deepcopy(wave)\n",
    "    wp = wave1[0:15000] + pulse\n",
    "    trapEmax[i] = get_trap_max(wp)\n",
    "    wfEmax[i] = np.max(wp)"
   ]
  },
  {
   "cell_type": "code",
   "execution_count": 46,
   "metadata": {},
   "outputs": [],
   "source": [
    "trapEnergy = trapEmax*0.0408625 -0.16892\n",
    "realEnergy = energy_lis*0.0408625 -0.16892\n",
    "deltaE = abs(trapEnergy - realEnergy)"
   ]
  },
  {
   "cell_type": "code",
   "execution_count": 53,
   "metadata": {},
   "outputs": [
    {
     "data": {
      "image/png": "[encoded data removed]",
      "text/plain": [
       "<Figure size 432x288 with 1 Axes>"
      ]
     },
     "metadata": {
      "needs_background": "light"
     },
     "output_type": "display_data"
    }
   ],
   "source": [
    "plt.scatter(realEnergy, deltaE)\n",
    "plt.xlim(-0.2,2)\n",
    "plt.xlabel(\"Energy [KeV]\")\n",
    "plt.ylabel(\"deltaE [KeV]\")\n",
    "plt.title(\"Difference in Calculated Energy and Real Energy Vs Real Energy\")\n",
    "plt.rcParams['savefig.facecolor']='white'\n",
    "plt.rcParams['axes.facecolor']='white'\n",
    "plt.savefig(\"images/deltaEVsE.pdf\", facecolor = \"white\")\n",
    "plt.show()"
   ]
  },
  {
   "cell_type": "code",
   "execution_count": 8,
   "metadata": {},
   "outputs": [],
   "source": [
    "df = fd.get_df(\"9188\", \"Card1\")"
   ]
  },
  {
   "cell_type": "code",
   "execution_count": 18,
   "metadata": {},
   "outputs": [],
   "source": [
    "df = df.drop_duplicates(\"timestamp\")"
   ]
  },
  {
   "cell_type": "code",
   "execution_count": 19,
   "metadata": {},
   "outputs": [
    {
     "data": {
      "text/html": [
       "<div>\n",
       "<style scoped>\n",
       "    .dataframe tbody tr th:only-of-type {\n",
       "        vertical-align: middle;\n",
       "    }\n",
       "\n",
       "    .dataframe tbody tr th {\n",
       "        vertical-align: top;\n",
       "    }\n",
       "\n",
       "    .dataframe thead th {\n",
       "        text-align: right;\n",
       "    }\n",
       "</style>\n",
       "<table border=\"1\" class=\"dataframe\">\n",
       "  <thead>\n",
       "    <tr style=\"text-align: right;\">\n",
       "      <th></th>\n",
       "      <th>channel</th>\n",
       "      <th>timestamp</th>\n",
       "      <th>startEnergy</th>\n",
       "      <th>maxEnergy</th>\n",
       "      <th>trapEmax</th>\n",
       "      <th>tp_max</th>\n",
       "      <th>wfEmax</th>\n",
       "      <th>tp_50</th>\n",
       "    </tr>\n",
       "  </thead>\n",
       "  <tbody>\n",
       "    <tr>\n",
       "      <th>0</th>\n",
       "      <td>0</td>\n",
       "      <td>34259632908387</td>\n",
       "      <td>134317535</td>\n",
       "      <td>27</td>\n",
       "      <td>6132.491699</td>\n",
       "      <td>152432.0</td>\n",
       "      <td>8084.515625</td>\n",
       "      <td>152432.0</td>\n",
       "    </tr>\n",
       "    <tr>\n",
       "      <th>1</th>\n",
       "      <td>0</td>\n",
       "      <td>34259633488287</td>\n",
       "      <td>134316413</td>\n",
       "      <td>4</td>\n",
       "      <td>4543.745605</td>\n",
       "      <td>138184.0</td>\n",
       "      <td>4595.859863</td>\n",
       "      <td>138184.0</td>\n",
       "    </tr>\n",
       "    <tr>\n",
       "      <th>3</th>\n",
       "      <td>0</td>\n",
       "      <td>34252175986278</td>\n",
       "      <td>134314664</td>\n",
       "      <td>4294967271</td>\n",
       "      <td>3940.395264</td>\n",
       "      <td>138176.0</td>\n",
       "      <td>4011.244141</td>\n",
       "      <td>138176.0</td>\n",
       "    </tr>\n",
       "    <tr>\n",
       "      <th>4</th>\n",
       "      <td>0</td>\n",
       "      <td>34252176131639</td>\n",
       "      <td>134315508</td>\n",
       "      <td>4294967250</td>\n",
       "      <td>4032.402100</td>\n",
       "      <td>138168.0</td>\n",
       "      <td>4079.388672</td>\n",
       "      <td>138168.0</td>\n",
       "    </tr>\n",
       "    <tr>\n",
       "      <th>6</th>\n",
       "      <td>0</td>\n",
       "      <td>34259634540652</td>\n",
       "      <td>134315657</td>\n",
       "      <td>12</td>\n",
       "      <td>4260.308594</td>\n",
       "      <td>138152.0</td>\n",
       "      <td>4337.847656</td>\n",
       "      <td>138152.0</td>\n",
       "    </tr>\n",
       "    <tr>\n",
       "      <th>...</th>\n",
       "      <td>...</td>\n",
       "      <td>...</td>\n",
       "      <td>...</td>\n",
       "      <td>...</td>\n",
       "      <td>...</td>\n",
       "      <td>...</td>\n",
       "      <td>...</td>\n",
       "      <td>...</td>\n",
       "    </tr>\n",
       "    <tr>\n",
       "      <th>8350</th>\n",
       "      <td>0</td>\n",
       "      <td>34260881218773</td>\n",
       "      <td>134314526</td>\n",
       "      <td>4294967246</td>\n",
       "      <td>8352.347656</td>\n",
       "      <td>138320.0</td>\n",
       "      <td>8416.989258</td>\n",
       "      <td>138320.0</td>\n",
       "    </tr>\n",
       "    <tr>\n",
       "      <th>8351</th>\n",
       "      <td>0</td>\n",
       "      <td>34260881681040</td>\n",
       "      <td>134313543</td>\n",
       "      <td>4294967260</td>\n",
       "      <td>1769.154053</td>\n",
       "      <td>130976.0</td>\n",
       "      <td>13242.864258</td>\n",
       "      <td>130976.0</td>\n",
       "    </tr>\n",
       "    <tr>\n",
       "      <th>8356</th>\n",
       "      <td>0</td>\n",
       "      <td>34260882475609</td>\n",
       "      <td>134315612</td>\n",
       "      <td>11</td>\n",
       "      <td>4053.804688</td>\n",
       "      <td>138200.0</td>\n",
       "      <td>4098.577637</td>\n",
       "      <td>138200.0</td>\n",
       "    </tr>\n",
       "    <tr>\n",
       "      <th>8361</th>\n",
       "      <td>0</td>\n",
       "      <td>34260883265856</td>\n",
       "      <td>134317492</td>\n",
       "      <td>32</td>\n",
       "      <td>1716.297241</td>\n",
       "      <td>137880.0</td>\n",
       "      <td>1763.447998</td>\n",
       "      <td>137880.0</td>\n",
       "    </tr>\n",
       "    <tr>\n",
       "      <th>8362</th>\n",
       "      <td>0</td>\n",
       "      <td>34260883511552</td>\n",
       "      <td>134313928</td>\n",
       "      <td>38</td>\n",
       "      <td>15076.475586</td>\n",
       "      <td>138552.0</td>\n",
       "      <td>15205.395508</td>\n",
       "      <td>138552.0</td>\n",
       "    </tr>\n",
       "  </tbody>\n",
       "</table>\n",
       "<p>3502 rows × 8 columns</p>\n",
       "</div>"
      ],
      "text/plain": [
       "      channel       timestamp  startEnergy   maxEnergy      trapEmax  \\\n",
       "0           0  34259632908387    134317535          27   6132.491699   \n",
       "1           0  34259633488287    134316413           4   4543.745605   \n",
       "3           0  34252175986278    134314664  4294967271   3940.395264   \n",
       "4           0  34252176131639    134315508  4294967250   4032.402100   \n",
       "6           0  34259634540652    134315657          12   4260.308594   \n",
       "...       ...             ...          ...         ...           ...   \n",
       "8350        0  34260881218773    134314526  4294967246   8352.347656   \n",
       "8351        0  34260881681040    134313543  4294967260   1769.154053   \n",
       "8356        0  34260882475609    134315612          11   4053.804688   \n",
       "8361        0  34260883265856    134317492          32   1716.297241   \n",
       "8362        0  34260883511552    134313928          38  15076.475586   \n",
       "\n",
       "        tp_max        wfEmax     tp_50  \n",
       "0     152432.0   8084.515625  152432.0  \n",
       "1     138184.0   4595.859863  138184.0  \n",
       "3     138176.0   4011.244141  138176.0  \n",
       "4     138168.0   4079.388672  138168.0  \n",
       "6     138152.0   4337.847656  138152.0  \n",
       "...        ...           ...       ...  \n",
       "8350  138320.0   8416.989258  138320.0  \n",
       "8351  130976.0  13242.864258  130976.0  \n",
       "8356  138200.0   4098.577637  138200.0  \n",
       "8361  137880.0   1763.447998  137880.0  \n",
       "8362  138552.0  15205.395508  138552.0  \n",
       "\n",
       "[3502 rows x 8 columns]"
      ]
     },
     "execution_count": 19,
     "metadata": {},
     "output_type": "execute_result"
    }
   ],
   "source": [
    "df"
   ]
  },
  {
   "cell_type": "code",
   "execution_count": 10,
   "metadata": {},
   "outputs": [
    {
     "data": {
      "image/png": "[encoded data removed]",
      "text/plain": [
       "<Figure size 432x288 with 1 Axes>"
      ]
     },
     "metadata": {
      "needs_background": "light"
     },
     "output_type": "display_data"
    }
   ],
   "source": [
    "plt.hist(df[\"trapEmax\"], bins=1000)\n",
    "plt.yscale(\"log\")\n",
    "plt.show()"
   ]
  },
  {
   "cell_type": "code",
   "execution_count": 29,
   "metadata": {},
   "outputs": [
    {
     "data": {
      "image/png": "[encoded data removed]",
      "text/plain": [
       "<Figure size 432x288 with 2 Axes>"
      ]
     },
     "metadata": {
      "needs_background": "light"
     },
     "output_type": "display_data"
    }
   ],
   "source": [
    "plt.hist2d(df[\"trapEmax\"]*0.0408625 -0.16892, df[\"wfEmax\"]*0.0408625 -0.16892, bins=(1000,1000),norm = colors.LogNorm(), cmap=plt.cm.Greys)\n",
    "plt.colorbar()\n",
    "plt.xlim(0,50)\n",
    "plt.ylim(0,50)\n",
    "plt.xlabel(\"Energy [KeV]\")\n",
    "plt.ylabel(\"Rise Time [us]\")\n",
    "plt.title(\"Rise Time Vs Energy\")\n",
    "#plt.rcParams['savefig.facecolor']='white'\n",
    "#plt.rcParams['axes.facecolor']='white'\n",
    "#plt.savefig(\"images/riseTimeVsEnergyLogFine.pdf\", facecolor = \"white\")\n",
    "plt.show()"
   ]
  },
  {
   "cell_type": "code",
   "execution_count": 30,
   "metadata": {},
   "outputs": [],
   "source": [
    "df[\"energyDiff\"] = abs(df[\"wfEmax\"] - df[\"trapEmax\"])"
   ]
  },
  {
   "cell_type": "code",
   "execution_count": 38,
   "metadata": {},
   "outputs": [
    {
     "data": {
      "image/png": "[encoded data removed]",
      "text/plain": [
       "<Figure size 432x288 with 1 Axes>"
      ]
     },
     "metadata": {
      "needs_background": "light"
     },
     "output_type": "display_data"
    }
   ],
   "source": [
    "plt.hist(df[\"energyDiff\"]*0.0408625 -0.16892, bins=10000)\n",
    "plt.xlim(-5,20)\n",
    "plt.xlabel(\"DeltaE [KeV]\")\n",
    "plt.ylabel(\"Counts\")\n",
    "plt.title(\"Histogram of the Difference Between Waveform Max and Trap Filter Max\")\n",
    "plt.rcParams['savefig.facecolor']='white'\n",
    "plt.rcParams['axes.facecolor']='white'\n",
    "plt.savefig(\"images/DifferenceBetweenWaveAndMax.pdf\", facecolor = \"white\")\n",
    "plt.show()"
   ]
  },
  {
   "cell_type": "code",
   "execution_count": null,
   "metadata": {},
   "outputs": [],
   "source": []
  }
 ],
 "metadata": {
  "kernelspec": {
   "display_name": "Python 3.9.14 64-bit",
   "language": "python",
   "name": "python3"
  },
  "language_info": {
   "codemirror_mode": {
    "name": "ipython",
    "version": 3
   },
   "file_extension": ".py",
   "mimetype": "text/x-python",
   "name": "python",
   "nbconvert_exporter": "python",
   "pygments_lexer": "ipython3",
   "version": "3.9.14"
  },
  "orig_nbformat": 4,
  "vscode": {
   "interpreter": {
    "hash": "f9f85f796d01129d0dd105a088854619f454435301f6ffec2fea96ecbd9be4ac"
   }
  }
 },
 "nbformat": 4,
 "nbformat_minor": 2
}
