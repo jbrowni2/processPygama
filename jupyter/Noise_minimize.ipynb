{
 "cells": [
  {
   "cell_type": "code",
   "execution_count": 1,
   "id": "0d702983",
   "metadata": {},
   "outputs": [],
   "source": [
    "import sys\n",
    "import os\n",
    "import io\n",
    "import json\n",
    "import argparse\n",
    "import numpy as np\n",
    "import pandas as pd\n",
    "import h5py\n",
    "from pprint import pprint\n",
    "from collections import OrderedDict\n",
    "import processes.foundation as fd\n",
    "import matplotlib.pyplot as plt\n",
    "from scipy import stats\n",
    "from math import exp\n",
    "import processes.foundation as fd\n",
    "import processes.fitModel as fM\n",
    "import processes.histogramAction as hA\n",
    "from math import exp, sqrt, pi, erfc\n",
    "from lmfit import Model\n",
    "import csv\n",
    "\n",
    "from pygama import flow\n",
    "from pygama.raw.build_raw import build_raw\n",
    "from pygama.dsp.build_dsp import build_dsp"
   ]
  },
  {
   "cell_type": "code",
   "execution_count": 2,
   "id": "49333d2e",
   "metadata": {},
   "outputs": [
    {
     "ename": "FileNotFoundError",
     "evalue": "file /home/jlb1694/data/dsp/Run1124.lh5 not found",
     "output_type": "error",
     "traceback": [
      "\u001b[0;31m---------------------------------------------------------------------------\u001b[0m",
      "\u001b[0;31mFileNotFoundError\u001b[0m                         Traceback (most recent call last)",
      "Input \u001b[0;32mIn [2]\u001b[0m, in \u001b[0;36m<cell line: 1>\u001b[0;34m()\u001b[0m\n\u001b[0;32m----> 1\u001b[0m t2_data \u001b[38;5;241m=\u001b[39m \u001b[43mfd\u001b[49m\u001b[38;5;241;43m.\u001b[39;49m\u001b[43mget_df\u001b[49m\u001b[43m(\u001b[49m\u001b[38;5;241;43m1124\u001b[39;49m\u001b[43m,\u001b[49m\u001b[43m \u001b[49m\u001b[38;5;124;43m'\u001b[39;49m\u001b[38;5;124;43mCard1\u001b[39;49m\u001b[38;5;124;43m'\u001b[39;49m\u001b[43m)\u001b[49m\n",
      "File \u001b[0;32m~/analysis/processes/foundation.py:239\u001b[0m, in \u001b[0;36mget_df\u001b[0;34m(run, tab)\u001b[0m\n\u001b[1;32m    238\u001b[0m \u001b[38;5;28;01mdef\u001b[39;00m \u001b[38;5;21mget_df\u001b[39m(run, tab\u001b[38;5;241m=\u001b[39m\u001b[38;5;28;01mNone\u001b[39;00m):\n\u001b[0;32m--> 239\u001b[0m     data \u001b[38;5;241m=\u001b[39m \u001b[43mget_t2_data\u001b[49m\u001b[43m(\u001b[49m\u001b[43mrun\u001b[49m\u001b[43m,\u001b[49m\u001b[43m \u001b[49m\u001b[43mtab\u001b[49m\u001b[43m)\u001b[49m\n\u001b[1;32m    240\u001b[0m     dictionary \u001b[38;5;241m=\u001b[39m \u001b[38;5;28mdict\u001b[39m()\n\u001b[1;32m    241\u001b[0m     \u001b[38;5;28;01mfor\u001b[39;00m col \u001b[38;5;129;01min\u001b[39;00m data[\u001b[38;5;241m0\u001b[39m]:\n",
      "File \u001b[0;32m~/analysis/processes/foundation.py:24\u001b[0m, in \u001b[0;36mget_t2_data\u001b[0;34m(run, tab)\u001b[0m\n\u001b[1;32m     22\u001b[0m f_raw \u001b[38;5;241m=\u001b[39m t2_dir \u001b[38;5;241m+\u001b[39m \u001b[38;5;124m\"\u001b[39m\u001b[38;5;124m/Run\u001b[39m\u001b[38;5;124m\"\u001b[39m \u001b[38;5;241m+\u001b[39m \u001b[38;5;28mstr\u001b[39m(run)\u001b[38;5;241m+\u001b[39m \u001b[38;5;124m'\u001b[39m\u001b[38;5;124m.lh5\u001b[39m\u001b[38;5;124m'\u001b[39m\n\u001b[1;32m     23\u001b[0m raw_store \u001b[38;5;241m=\u001b[39m lh5\u001b[38;5;241m.\u001b[39mLH5Store()\n\u001b[0;32m---> 24\u001b[0m lh5_file \u001b[38;5;241m=\u001b[39m \u001b[43mraw_store\u001b[49m\u001b[38;5;241;43m.\u001b[39;49m\u001b[43mgimme_file\u001b[49m\u001b[43m(\u001b[49m\u001b[43mf_raw\u001b[49m\u001b[43m,\u001b[49m\u001b[43m \u001b[49m\u001b[38;5;124;43m'\u001b[39;49m\u001b[38;5;124;43mr\u001b[39;49m\u001b[38;5;124;43m'\u001b[39;49m\u001b[43m)\u001b[49m\n\u001b[1;32m     26\u001b[0m lh5_tables \u001b[38;5;241m=\u001b[39m []\n\u001b[1;32m     27\u001b[0m lh5_keys \u001b[38;5;241m=\u001b[39m lh5\u001b[38;5;241m.\u001b[39mls(f_raw)\n",
      "File \u001b[0;32m~/pygama/src/pygama/lgdo/lh5_store.py:87\u001b[0m, in \u001b[0;36mLH5Store.gimme_file\u001b[0;34m(self, lh5_file, mode)\u001b[0m\n\u001b[1;32m     85\u001b[0m         os\u001b[38;5;241m.\u001b[39mmakedirs(directory)\n\u001b[1;32m     86\u001b[0m \u001b[38;5;28;01mif\u001b[39;00m mode \u001b[38;5;241m==\u001b[39m \u001b[38;5;124m\"\u001b[39m\u001b[38;5;124mr\u001b[39m\u001b[38;5;124m\"\u001b[39m \u001b[38;5;129;01mand\u001b[39;00m \u001b[38;5;129;01mnot\u001b[39;00m os\u001b[38;5;241m.\u001b[39mpath\u001b[38;5;241m.\u001b[39mexists(full_path):\n\u001b[0;32m---> 87\u001b[0m     \u001b[38;5;28;01mraise\u001b[39;00m \u001b[38;5;167;01mFileNotFoundError\u001b[39;00m(\u001b[38;5;124mf\u001b[39m\u001b[38;5;124m\"\u001b[39m\u001b[38;5;124mfile \u001b[39m\u001b[38;5;132;01m{\u001b[39;00mfull_path\u001b[38;5;132;01m}\u001b[39;00m\u001b[38;5;124m not found\u001b[39m\u001b[38;5;124m\"\u001b[39m)\n\u001b[1;32m     88\u001b[0m \u001b[38;5;28;01mif\u001b[39;00m mode \u001b[38;5;241m!=\u001b[39m \u001b[38;5;124m\"\u001b[39m\u001b[38;5;124mr\u001b[39m\u001b[38;5;124m\"\u001b[39m \u001b[38;5;129;01mand\u001b[39;00m os\u001b[38;5;241m.\u001b[39mpath\u001b[38;5;241m.\u001b[39mexists(full_path):\n\u001b[1;32m     89\u001b[0m     log\u001b[38;5;241m.\u001b[39mdebug(\u001b[38;5;124mf\u001b[39m\u001b[38;5;124m\"\u001b[39m\u001b[38;5;124mopening existing file \u001b[39m\u001b[38;5;132;01m{\u001b[39;00mfull_path\u001b[38;5;132;01m}\u001b[39;00m\u001b[38;5;124m in mode \u001b[39m\u001b[38;5;124m'\u001b[39m\u001b[38;5;132;01m{\u001b[39;00mmode\u001b[38;5;132;01m}\u001b[39;00m\u001b[38;5;124m'\u001b[39m\u001b[38;5;124m\"\u001b[39m)\n",
      "\u001b[0;31mFileNotFoundError\u001b[0m: file /home/jlb1694/data/dsp/Run1124.lh5 not found"
     ]
    }
   ],
   "source": [
    "t2_data = fd.get_df(1124, 'Card1')"
   ]
  },
  {
   "cell_type": "code",
   "execution_count": null,
   "id": "ecf52dc4",
   "metadata": {},
   "outputs": [],
   "source": [
    "t2_data"
   ]
  },
  {
   "cell_type": "code",
   "execution_count": 7,
   "id": "73a43287",
   "metadata": {},
   "outputs": [
    {
     "data": {
      "text/plain": [
       "(0.0, 600.0)"
      ]
     },
     "execution_count": 7,
     "metadata": {},
     "output_type": "execute_result"
    },
    {
     "data": {
      "image/png": "[encoded data removed]",
      "text/plain": [
       "<Figure size 432x288 with 1 Axes>"
      ]
     },
     "metadata": {
      "needs_background": "light"
     },
     "output_type": "display_data"
    }
   ],
   "source": [
    "plt.hist(t2_data[\"trapEmax\"], histtype=\"step\", bins=160000)\n",
    "plt.xlim(50,100)\n",
    "plt.ylim(0,600)"
   ]
  },
  {
   "cell_type": "code",
   "execution_count": 2,
   "id": "55ae0e10",
   "metadata": {},
   "outputs": [],
   "source": [
    "\n",
    "\n",
    "file = '/home/jlb1694/processPygama/coherent.json'\n",
    "with open(file, 'r') as read_file:\n",
    "    data = json.load(read_file)\n",
    "\n",
    "config = '/home/jlb1694/processPygama/configFiles/config.json'\n",
    "with open(config, 'r') as read_file:\n",
    "    configure = json.load(read_file)\n",
    "\n",
    "\n",
    "chan_file = \"/home/jlb1694/processPygama/chan_config.json\"\n",
    "conf_file = \"/home/jlb1694/processPygama/dspConfigFiles/dsp_config.json\"\n",
    "with open(conf_file) as f:\n",
    "    dsp = json.load(f, object_pairs_hook=OrderedDict)\n",
    "with open(chan_file) as f:\n",
    "    chan_conf = json.load(f, object_pairs_hook=OrderedDict)\n",
    "\n",
    "fwMin = 100\n",
    "riseMin = 0\n",
    "flatMin = 0\n",
    "FW = []\n",
    "rise = []\n",
    "flat = []\n",
    "error = []"
   ]
  },
  {
   "cell_type": "code",
   "execution_count": 3,
   "id": "0f3dc8c4",
   "metadata": {},
   "outputs": [
    {
     "name": "stdout",
     "output_type": "stream",
     "text": [
      "Processing table Card1: 100%|███████| 136426/136426 [00:35<00:00, 3798.36rows/s]\n",
      "7.172007260143229\n",
      "Processing table Card1:  47%|███▊    | 64000/136426 [00:16<00:19, 3788.86rows/s]"
     ]
    },
    {
     "ename": "KeyboardInterrupt",
     "evalue": "",
     "output_type": "error",
     "traceback": [
      "\u001b[0;31m---------------------------------------------------------------------------\u001b[0m",
      "\u001b[0;31mKeyboardInterrupt\u001b[0m                         Traceback (most recent call last)",
      "Input \u001b[0;32mIn [3]\u001b[0m, in \u001b[0;36m<cell line: 1>\u001b[0;34m()\u001b[0m\n\u001b[1;32m     14\u001b[0m dataFile \u001b[38;5;241m=\u001b[39m data[\u001b[38;5;124m'\u001b[39m\u001b[38;5;124mraw_dir\u001b[39m\u001b[38;5;124m'\u001b[39m] \u001b[38;5;241m+\u001b[39m \u001b[38;5;124m'\u001b[39m\u001b[38;5;124m/Run1124.lh5\u001b[39m\u001b[38;5;124m'\u001b[39m\n\u001b[1;32m     15\u001b[0m outFile \u001b[38;5;241m=\u001b[39m data[\u001b[38;5;124m'\u001b[39m\u001b[38;5;124mdsp_dir\u001b[39m\u001b[38;5;124m'\u001b[39m] \u001b[38;5;241m+\u001b[39m \u001b[38;5;124m'\u001b[39m\u001b[38;5;124m/Run1124.lh5\u001b[39m\u001b[38;5;124m'\u001b[39m\n\u001b[0;32m---> 17\u001b[0m \u001b[43mbuild_dsp\u001b[49m\u001b[43m(\u001b[49m\u001b[43mdataFile\u001b[49m\u001b[43m,\u001b[49m\u001b[43m \u001b[49m\u001b[43moutFile\u001b[49m\u001b[43m,\u001b[49m\u001b[43m \u001b[49m\u001b[43mchan_config\u001b[49m\u001b[43m \u001b[49m\u001b[38;5;241;43m=\u001b[39;49m\u001b[43m \u001b[49m\u001b[43mchan_conf\u001b[49m\u001b[43m,\u001b[49m\u001b[43m \u001b[49m\u001b[43mwrite_mode\u001b[49m\u001b[43m \u001b[49m\u001b[38;5;241;43m=\u001b[39;49m\u001b[43m \u001b[49m\u001b[38;5;124;43m'\u001b[39;49m\u001b[38;5;124;43mr\u001b[39;49m\u001b[38;5;124;43m'\u001b[39;49m\u001b[43m)\u001b[49m\n\u001b[1;32m     19\u001b[0m t2_data \u001b[38;5;241m=\u001b[39m fd\u001b[38;5;241m.\u001b[39mget_df(\u001b[38;5;241m1124\u001b[39m, \u001b[38;5;124m'\u001b[39m\u001b[38;5;124mCard1\u001b[39m\u001b[38;5;124m'\u001b[39m)\n\u001b[1;32m     21\u001b[0m counts, bins, bars \u001b[38;5;241m=\u001b[39m plt\u001b[38;5;241m.\u001b[39mhist(t2_data[\u001b[38;5;124m'\u001b[39m\u001b[38;5;124mtrapEmax\u001b[39m\u001b[38;5;124m'\u001b[39m], histtype\u001b[38;5;241m=\u001b[39m\u001b[38;5;124m'\u001b[39m\u001b[38;5;124mstep\u001b[39m\u001b[38;5;124m'\u001b[39m, bins\u001b[38;5;241m=\u001b[39m\u001b[38;5;241m160000\u001b[39m)\n",
      "File \u001b[0;32m~/pygama/src/pygama/dsp/build_dsp.py:87\u001b[0m, in \u001b[0;36mbuild_dsp\u001b[0;34m(f_raw, f_dsp, dsp_config, lh5_tables, database, outputs, n_max, write_mode, buffer_len, block_width, chan_config)\u001b[0m\n\u001b[1;32m     85\u001b[0m log\u001b[38;5;241m.\u001b[39mdebug(\u001b[38;5;124mf\u001b[39m\u001b[38;5;124m\"\u001b[39m\u001b[38;5;124mprocessing table: \u001b[39m\u001b[38;5;132;01m{\u001b[39;00mtb\u001b[38;5;132;01m}\u001b[39;00m\u001b[38;5;124m with DSP config file \u001b[39m\u001b[38;5;132;01m{\u001b[39;00mdsp_config\u001b[38;5;132;01m}\u001b[39;00m\u001b[38;5;124m\"\u001b[39m)\n\u001b[1;32m     86\u001b[0m \u001b[38;5;28;01mtry\u001b[39;00m:\n\u001b[0;32m---> 87\u001b[0m     \u001b[43mbuild_dsp\u001b[49m\u001b[43m(\u001b[49m\n\u001b[1;32m     88\u001b[0m \u001b[43m        \u001b[49m\u001b[43mf_raw\u001b[49m\u001b[43m,\u001b[49m\n\u001b[1;32m     89\u001b[0m \u001b[43m        \u001b[49m\u001b[43mf_dsp\u001b[49m\u001b[43m,\u001b[49m\n\u001b[1;32m     90\u001b[0m \u001b[43m        \u001b[49m\u001b[43mdsp_config\u001b[49m\u001b[43m,\u001b[49m\n\u001b[1;32m     91\u001b[0m \u001b[43m        \u001b[49m\u001b[43m[\u001b[49m\u001b[43mtb\u001b[49m\u001b[43m]\u001b[49m\u001b[43m,\u001b[49m\n\u001b[1;32m     92\u001b[0m \u001b[43m        \u001b[49m\u001b[43mdatabase\u001b[49m\u001b[43m,\u001b[49m\n\u001b[1;32m     93\u001b[0m \u001b[43m        \u001b[49m\u001b[43moutputs\u001b[49m\u001b[43m,\u001b[49m\n\u001b[1;32m     94\u001b[0m \u001b[43m        \u001b[49m\u001b[43mn_max\u001b[49m\u001b[43m,\u001b[49m\n\u001b[1;32m     95\u001b[0m \u001b[43m        \u001b[49m\u001b[43mwrite_mode\u001b[49m\u001b[43m,\u001b[49m\n\u001b[1;32m     96\u001b[0m \u001b[43m        \u001b[49m\u001b[43mbuffer_len\u001b[49m\u001b[43m,\u001b[49m\n\u001b[1;32m     97\u001b[0m \u001b[43m        \u001b[49m\u001b[43mblock_width\u001b[49m\u001b[43m,\u001b[49m\n\u001b[1;32m     98\u001b[0m \u001b[43m    \u001b[49m\u001b[43m)\u001b[49m\n\u001b[1;32m     99\u001b[0m \u001b[38;5;28;01mexcept\u001b[39;00m \u001b[38;5;167;01mRuntimeError\u001b[39;00m:\n\u001b[1;32m    100\u001b[0m     log\u001b[38;5;241m.\u001b[39mdebug(\u001b[38;5;124mf\u001b[39m\u001b[38;5;124m\"\u001b[39m\u001b[38;5;124mtable \u001b[39m\u001b[38;5;132;01m{\u001b[39;00mtb\u001b[38;5;132;01m}\u001b[39;00m\u001b[38;5;124m not found\u001b[39m\u001b[38;5;124m\"\u001b[39m)\n",
      "File \u001b[0;32m~/pygama/src/pygama/dsp/build_dsp.py:200\u001b[0m, in \u001b[0;36mbuild_dsp\u001b[0;34m(f_raw, f_dsp, dsp_config, lh5_tables, database, outputs, n_max, write_mode, buffer_len, block_width, chan_config)\u001b[0m\n\u001b[1;32m    198\u001b[0m n_rows \u001b[38;5;241m=\u001b[39m \u001b[38;5;28mmin\u001b[39m(tot_n_rows \u001b[38;5;241m-\u001b[39m start_row, n_rows)\n\u001b[1;32m    199\u001b[0m \u001b[38;5;28;01mtry\u001b[39;00m:\n\u001b[0;32m--> 200\u001b[0m     \u001b[43mproc_chain\u001b[49m\u001b[38;5;241;43m.\u001b[39;49m\u001b[43mexecute\u001b[49m\u001b[43m(\u001b[49m\u001b[38;5;241;43m0\u001b[39;49m\u001b[43m,\u001b[49m\u001b[43m \u001b[49m\u001b[43mn_rows\u001b[49m\u001b[43m)\u001b[49m\n\u001b[1;32m    201\u001b[0m \u001b[38;5;28;01mexcept\u001b[39;00m DSPFatal \u001b[38;5;28;01mas\u001b[39;00m e:\n\u001b[1;32m    202\u001b[0m     \u001b[38;5;66;03m# Update the wf_range to reflect the file position\u001b[39;00m\n\u001b[1;32m    203\u001b[0m     e\u001b[38;5;241m.\u001b[39mwf_range \u001b[38;5;241m=\u001b[39m \u001b[38;5;124mf\u001b[39m\u001b[38;5;124m\"\u001b[39m\u001b[38;5;132;01m{\u001b[39;00me\u001b[38;5;241m.\u001b[39mwf_range[\u001b[38;5;241m0\u001b[39m]\u001b[38;5;241m+\u001b[39mstart_row\u001b[38;5;132;01m}\u001b[39;00m\u001b[38;5;124m-\u001b[39m\u001b[38;5;132;01m{\u001b[39;00me\u001b[38;5;241m.\u001b[39mwf_range[\u001b[38;5;241m1\u001b[39m]\u001b[38;5;241m+\u001b[39mstart_row\u001b[38;5;132;01m}\u001b[39;00m\u001b[38;5;124m\"\u001b[39m\n",
      "File \u001b[0;32m~/pygama/src/pygama/dsp/processing_chain.py:574\u001b[0m, in \u001b[0;36mProcessingChain.execute\u001b[0;34m(self, start, stop)\u001b[0m\n\u001b[1;32m    572\u001b[0m     stop \u001b[38;5;241m=\u001b[39m \u001b[38;5;28mself\u001b[39m\u001b[38;5;241m.\u001b[39m_buffer_len\n\u001b[1;32m    573\u001b[0m \u001b[38;5;28;01mfor\u001b[39;00m i \u001b[38;5;129;01min\u001b[39;00m \u001b[38;5;28mrange\u001b[39m(start, stop, \u001b[38;5;28mself\u001b[39m\u001b[38;5;241m.\u001b[39m_block_width):\n\u001b[0;32m--> 574\u001b[0m     \u001b[38;5;28;43mself\u001b[39;49m\u001b[38;5;241;43m.\u001b[39;49m\u001b[43m_execute_procs\u001b[49m\u001b[43m(\u001b[49m\u001b[43mi\u001b[49m\u001b[43m,\u001b[49m\u001b[43m \u001b[49m\u001b[38;5;28;43mmin\u001b[39;49m\u001b[43m(\u001b[49m\u001b[43mi\u001b[49m\u001b[43m \u001b[49m\u001b[38;5;241;43m+\u001b[39;49m\u001b[43m \u001b[49m\u001b[38;5;28;43mself\u001b[39;49m\u001b[38;5;241;43m.\u001b[39;49m\u001b[43m_block_width\u001b[49m\u001b[43m,\u001b[49m\u001b[43m \u001b[49m\u001b[38;5;28;43mself\u001b[39;49m\u001b[38;5;241;43m.\u001b[39;49m\u001b[43m_buffer_len\u001b[49m\u001b[43m)\u001b[49m\u001b[43m)\u001b[49m\n",
      "File \u001b[0;32m~/pygama/src/pygama/dsp/processing_chain.py:879\u001b[0m, in \u001b[0;36mProcessingChain._execute_procs\u001b[0;34m(self, begin, end)\u001b[0m\n\u001b[1;32m    877\u001b[0m \u001b[38;5;28;01mfor\u001b[39;00m proc_man \u001b[38;5;129;01min\u001b[39;00m \u001b[38;5;28mself\u001b[39m\u001b[38;5;241m.\u001b[39m_proc_managers:\n\u001b[1;32m    878\u001b[0m     \u001b[38;5;28;01mtry\u001b[39;00m:\n\u001b[0;32m--> 879\u001b[0m         \u001b[43mproc_man\u001b[49m\u001b[38;5;241;43m.\u001b[39;49m\u001b[43mexecute\u001b[49m\u001b[43m(\u001b[49m\u001b[43m)\u001b[49m\n\u001b[1;32m    880\u001b[0m     \u001b[38;5;28;01mexcept\u001b[39;00m DSPFatal \u001b[38;5;28;01mas\u001b[39;00m e:\n\u001b[1;32m    881\u001b[0m         e\u001b[38;5;241m.\u001b[39mprocessor \u001b[38;5;241m=\u001b[39m \u001b[38;5;28mstr\u001b[39m(proc_man)\n",
      "File \u001b[0;32m~/pygama/src/pygama/dsp/processing_chain.py:1180\u001b[0m, in \u001b[0;36mProcessorManager.execute\u001b[0;34m(self)\u001b[0m\n\u001b[1;32m   1179\u001b[0m \u001b[38;5;28;01mdef\u001b[39;00m \u001b[38;5;21mexecute\u001b[39m(\u001b[38;5;28mself\u001b[39m) \u001b[38;5;241m-\u001b[39m\u001b[38;5;241m>\u001b[39m \u001b[38;5;28;01mNone\u001b[39;00m:\n\u001b[0;32m-> 1180\u001b[0m     \u001b[38;5;28;43mself\u001b[39;49m\u001b[38;5;241;43m.\u001b[39;49m\u001b[43mprocessor\u001b[49m\u001b[43m(\u001b[49m\u001b[38;5;241;43m*\u001b[39;49m\u001b[38;5;28;43mself\u001b[39;49m\u001b[38;5;241;43m.\u001b[39;49m\u001b[43margs\u001b[49m\u001b[43m,\u001b[49m\u001b[43m \u001b[49m\u001b[38;5;241;43m*\u001b[39;49m\u001b[38;5;241;43m*\u001b[39;49m\u001b[38;5;28;43mself\u001b[39;49m\u001b[38;5;241;43m.\u001b[39;49m\u001b[43mkwargs\u001b[49m\u001b[43m)\u001b[49m\n",
      "File \u001b[0;32m~/.local/lib/python3.9/site-packages/numba/np/ufunc/gufunc.py:170\u001b[0m, in \u001b[0;36mGUFunc.__call__\u001b[0;34m(self, *args, **kwargs)\u001b[0m\n\u001b[1;32m    166\u001b[0m \u001b[38;5;28;01mdef\u001b[39;00m \u001b[38;5;21m__call__\u001b[39m(\u001b[38;5;28mself\u001b[39m, \u001b[38;5;241m*\u001b[39margs, \u001b[38;5;241m*\u001b[39m\u001b[38;5;241m*\u001b[39mkwargs):\n\u001b[1;32m    167\u001b[0m     \u001b[38;5;66;03m# If compilation is disabled OR it is NOT a dynamic gufunc\u001b[39;00m\n\u001b[1;32m    168\u001b[0m     \u001b[38;5;66;03m# call the underlying gufunc\u001b[39;00m\n\u001b[1;32m    169\u001b[0m     \u001b[38;5;28;01mif\u001b[39;00m \u001b[38;5;28mself\u001b[39m\u001b[38;5;241m.\u001b[39m_frozen \u001b[38;5;129;01mor\u001b[39;00m \u001b[38;5;129;01mnot\u001b[39;00m \u001b[38;5;28mself\u001b[39m\u001b[38;5;241m.\u001b[39mis_dynamic:\n\u001b[0;32m--> 170\u001b[0m         \u001b[38;5;28;01mreturn\u001b[39;00m \u001b[38;5;28;43mself\u001b[39;49m\u001b[38;5;241;43m.\u001b[39;49m\u001b[43mufunc\u001b[49m\u001b[43m(\u001b[49m\u001b[38;5;241;43m*\u001b[39;49m\u001b[43margs\u001b[49m\u001b[43m,\u001b[49m\u001b[43m \u001b[49m\u001b[38;5;241;43m*\u001b[39;49m\u001b[38;5;241;43m*\u001b[39;49m\u001b[43mkwargs\u001b[49m\u001b[43m)\u001b[49m\n\u001b[1;32m    171\u001b[0m     \u001b[38;5;28;01melif\u001b[39;00m \u001b[38;5;124m\"\u001b[39m\u001b[38;5;124mout\u001b[39m\u001b[38;5;124m\"\u001b[39m \u001b[38;5;129;01min\u001b[39;00m kwargs:\n\u001b[1;32m    172\u001b[0m         \u001b[38;5;66;03m# If \"out\" argument is supplied\u001b[39;00m\n\u001b[1;32m    173\u001b[0m         args \u001b[38;5;241m+\u001b[39m\u001b[38;5;241m=\u001b[39m (kwargs\u001b[38;5;241m.\u001b[39mpop(\u001b[38;5;124m\"\u001b[39m\u001b[38;5;124mout\u001b[39m\u001b[38;5;124m\"\u001b[39m),)\n",
      "\u001b[0;31mKeyboardInterrupt\u001b[0m: "
     ]
    },
    {
     "data": {
      "image/png": "[encoded data removed]",
      "text/plain": [
       "<Figure size 432x288 with 1 Axes>"
      ]
     },
     "metadata": {
      "needs_background": "light"
     },
     "output_type": "display_data"
    }
   ],
   "source": [
    "for i in range(6, 13):\n",
    "        for j in np.arange(0.3,1.2, 0.1):\n",
    "\n",
    "            dsp[\"processors\"][\"wf_trap\"][\"args\"][1] = str(i) + '*us'\n",
    "            dsp[\"processors\"][\"wf_trap\"][\"args\"][2] = str(j) + '*us'\n",
    "\n",
    "            json_object = json.dumps(dsp, indent=4)\n",
    "\n",
    "        # Writing to sample.json\n",
    "            with open(conf_file, \"w\") as outfile:\n",
    "                outfile.write(json_object)\n",
    "\n",
    "\n",
    "            dataFile = data['raw_dir'] + '/Run1124.lh5'\n",
    "            outFile = data['dsp_dir'] + '/Run1124.lh5'\n",
    "\n",
    "            build_dsp(dataFile, outFile, chan_config = chan_conf, write_mode = 'r')\n",
    "\n",
    "            t2_data = fd.get_df(1124, 'Card1')\n",
    "\n",
    "            counts, bins, bars = plt.hist(t2_data['trapEmax'], histtype='step', bins=160000)\n",
    "\n",
    "            #lower and upper chosen by looking at spectrum above\n",
    "            lower = hA.find_nearest_bin(bins,50)\n",
    "            upper = hA.find_nearest_bin(bins,120)\n",
    "            ydata = counts[lower:upper]\n",
    "            xdata = bins[lower:upper]\n",
    "            l = np.argmax(ydata)\n",
    "\n",
    "            gmodel = Model(fM.lingaus)\n",
    "            #params = gmodel.make_params(A=700, m1=315.5, s1=0.5, H_tail=-0.000001, H_step=1, tau=-0.5, slope=-6, intrcpt=180)\n",
    "            params = gmodel.make_params(a1=1000, m1=xdata[l], s1=2.0, slope=-0.046, intrcpt=58)\n",
    "            #params['s1'].vary = False\n",
    "            result = gmodel.fit(ydata,params, x=xdata)\n",
    "\n",
    "            sigma = result.params['s1'].value\n",
    "            fw = 2.355*sigma\n",
    "            try:\n",
    "                FW.append(2.355*sigma)\n",
    "                error.append(2.355*result.params['s1'].stderr)\n",
    "                rise.append(i)\n",
    "                flat.append(j)\n",
    "            except:\n",
    "                print('wierd')\n",
    "            print(fw)\n",
    "\n",
    "            if fw <= fwMin and fw >= 0:\n",
    "                fwMin = fw\n",
    "                riseMin = i\n",
    "                flatMin = j"
   ]
  },
  {
   "cell_type": "code",
   "execution_count": null,
   "id": "17e74360",
   "metadata": {},
   "outputs": [],
   "source": [
    "i = fw.index(min(fw))\n",
    "riMin = rise[i]\n",
    "flatMin = flat[i]\n",
    "\n",
    "indexRiMin = [i for i,x in enumerate(rise) if x==riMin]\n",
    "fwRiMin = [fw[i] for i in indexRiMin]\n",
    "flatRiMin = [flat[i] for i in indexRiMin]\n",
    "errorRiMin = [error[i] for i in indexRiMin]\n",
    "indexFlMin = [j for j,x in enumerate(flat) if x==flatMin]\n",
    "fwFlatMin = [fw[i] for i in indexFlMin]\n",
    "riseFlMin = [rise[i] for i in indexFlMin]\n",
    "errorFlMin = [error[i] for i in indexFlMin]"
   ]
  },
  {
   "cell_type": "code",
   "execution_count": null,
   "id": "185ea497",
   "metadata": {},
   "outputs": [],
   "source": [
    "plt.subplot(1,2,1)\n",
    "plt.errorbar(flatRiMin,fwRiMin,yerr=errorRiMin, fmt='o')\n",
    "plt.title(\"FWHM vs flat time for pulser peak with rise time 10.0 us\")\n",
    "plt.xlabel(\"shaping (microseconds)\")\n",
    "plt.ylabel(\"FWHM (KeV)\")\n",
    "plt.rcParams['figure.facecolor'] = 'white'\n",
    "plt.subplot(1,2,2)\n",
    "plt.errorbar(riseFlMin,fwFlatMin,yerr=errorFlMin, fmt='o')\n",
    "plt.title(\"FWHM vs flat time for pulser peak with rise time 10.0 us\")\n",
    "plt.xlabel(\"shaping (microseconds)\")\n",
    "plt.ylabel(\"FWHM (KeV)\")\n",
    "plt.rcParams['figure.facecolor'] = 'white'\n",
    "plt.show()"
   ]
  }
 ],
 "metadata": {
  "kernelspec": {
   "display_name": "Python 3 (ipykernel)",
   "language": "python",
   "name": "python3"
  },
  "language_info": {
   "codemirror_mode": {
    "name": "ipython",
    "version": 3
   },
   "file_extension": ".py",
   "mimetype": "text/x-python",
   "name": "python",
   "nbconvert_exporter": "python",
   "pygments_lexer": "ipython3",
   "version": "3.9.13"
  }
 },
 "nbformat": 4,
 "nbformat_minor": 5
}
