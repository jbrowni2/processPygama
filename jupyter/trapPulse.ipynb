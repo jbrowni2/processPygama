{
 "cells": [
  {
   "cell_type": "code",
   "execution_count": 1,
   "metadata": {},
   "outputs": [],
   "source": [
    "import numpy as np\n",
    "import pandas as pd\n",
    "import matplotlib.pyplot as plt\n",
    "import os\n",
    "from scipy import stats\n",
    "from scipy import signal\n",
    "from math import exp\n",
    "import processes.foundation as fd\n",
    "from math import exp, sqrt, pi, erfc\n",
    "from lmfit import Model\n",
    "import csv\n",
    "from scipy.optimize import curve_fit\n",
    "import pywt\n",
    "from statistics import median\n",
    "import copy"
   ]
  },
  {
   "cell_type": "code",
   "execution_count": 2,
   "metadata": {},
   "outputs": [],
   "source": [
    "def find_closest_idx(arr, val):\n",
    "       idx = np.abs(arr - val).argmin()\n",
    "       return idx"
   ]
  },
  {
   "cell_type": "code",
   "execution_count": 76,
   "metadata": {},
   "outputs": [],
   "source": [
    "def find_idx(arr, val, idxBegin):\n",
    "        for i in range(idxBegin, 0, -1):\n",
    "            count = arr[i]\n",
    "            if count <= val:\n",
    "                break\n",
    "\n",
    "        idx = i\n",
    "        return idx"
   ]
  },
  {
   "cell_type": "code",
   "execution_count": 4,
   "metadata": {},
   "outputs": [],
   "source": [
    "def find_idxr(arr, val, idxBegin):\n",
    "        for i in range(idxBegin, len(arr)-1, 1):\n",
    "            count = arr[i]\n",
    "            if count >= val:\n",
    "                break\n",
    "        \n",
    "        idx = i\n",
    "        return idx"
   ]
  },
  {
   "cell_type": "code",
   "execution_count": 60,
   "metadata": {},
   "outputs": [],
   "source": [
    "def sigPulseSpecific(riseMax, riseMin, Energy):\n",
    "    rise = int((riseMax-riseMin)*np.random.random()+riseMin)\n",
    "    energy = Energy\n",
    "\n",
    "\n",
    "\n",
    "    pulse = np.zeros(15000)\n",
    "    x = np.linspace(-rise-40,rise+40,2*rise+81)\n",
    "    y = energy/(1 + np.exp(-x/(0.3*rise)))\n",
    "\n",
    "    pulse[10000: 10000+len(x)] = y\n",
    "    pulse[10000+len(x)::] = y[-1]\n",
    "\n",
    "    max = np.amax(pulse)\n",
    "    min = np.amin(pulse)\n",
    "    m90 = max - (max-min)*0.10\n",
    "    m10 = max - (max-min)*0.90\n",
    "    imax9 = find_closest_idx(pulse, m90)\n",
    "    imax1 = find_closest_idx(pulse, m10)\n",
    "    rise = imax9 - imax1\n",
    "\n",
    "    return pulse, rise"
   ]
  },
  {
   "cell_type": "code",
   "execution_count": 24,
   "metadata": {},
   "outputs": [],
   "source": [
    "def get_trap_time(wp):\n",
    "    w_trap = np.zeros(len(wp))\n",
    "\n",
    "    rise = int(6/.008)\n",
    "    flat = int(0.8/.008)\n",
    "\n",
    "    w_trap[0] = wp[0]/rise\n",
    "    for i in range(1, rise, 1):\n",
    "        w_trap[i] = w_trap[i - 1] + wp[i] / rise\n",
    "    for i in range(rise, rise + flat, 1):\n",
    "        w_trap[i] = w_trap[i - 1] + (wp[i] - wp[i - rise])/rise\n",
    "    for i in range(rise + flat, 2 * rise + flat, 1):\n",
    "        w_trap[i] = w_trap[i - 1] + (wp[i] - wp[i - rise] - wp[i - rise - flat])/rise\n",
    "    for i in range(2 * rise + flat, len(wp), 1):\n",
    "        w_trap[i] = (\n",
    "        w_trap[i - 1]\n",
    "        + (wp[i]\n",
    "        - wp[i - rise]\n",
    "        - wp[i - rise - flat]\n",
    "        + wp[i - 2 * rise - flat])/rise\n",
    "    )\n",
    "\n",
    "    return np.argmax(w_trap)\n",
    "\n",
    "    "
   ]
  },
  {
   "cell_type": "code",
   "execution_count": 91,
   "metadata": {},
   "outputs": [],
   "source": [
    "#Here is Method 2 which calculates the rise time by using a starting index and going left till it finds a threshold.\n",
    "#Method 1 also uses an RNG sigmoid pulsar.\n",
    "run_list = 9188\n",
    "data = fd.get_t1_data(run_list, \"Card1\")\n",
    "wave = data[0][\"waveform\"][\"values\"].nda[1]\n",
    "\n",
    "energy_Step = 100\n",
    "steps = 100\n",
    "nb = 10000\n",
    "energy_lis = np.linspace(0,125,energy_Step)\n",
    "sig = np.zeros(energy_Step)\n",
    "#correct = np.zeros(nb)\n",
    "#false = np.zeros(nb)\n",
    "\n",
    "cDs = pywt.swt(wave, \"haar\", level=4)\n",
    "threshold = np.zeros_like([0,0,0,0])\n",
    "\n",
    "j=0\n",
    "for cD in cDs:\n",
    "    median_value = median(cD[1])\n",
    "    median_average_deviation = median([abs(number-median_value) for number in cD[1]])\n",
    "    sig1 = median_average_deviation/0.6745\n",
    "    threshold[j] = sig1*np.sqrt(2*np.log(len(wave)))\n",
    "    j+=1\n",
    "\n",
    "j=0\n",
    "for cD in cDs:\n",
    "    cD[1][abs(cD[1]) < threshold[j]] = 0.0\n",
    "    j += 1\n",
    "\n",
    "wave = pywt.iswt(cDs, \"Haar\")\n",
    "\n",
    "mean = np.nan\n",
    "stdev = np.nan\n",
    "slope = np.nan\n",
    "intercept = np.nan\n",
    "\n",
    "\n",
    "sum_x = sum_x2 = sum_xy = sum_y = mean = stdev = 0\n",
    "isum = 15000\n",
    "\n",
    "for i in range(0, 15000, 1):\n",
    "    # the mean and standard deviation\n",
    "        temp = wave[i] - mean\n",
    "        mean += temp / (i + 1)\n",
    "        stdev += temp * (wave[i] - mean)\n",
    "\n",
    "        # linear regression\n",
    "        sum_x += i\n",
    "        sum_x2 += i * i\n",
    "        sum_xy += wave[i] * i\n",
    "        sum_y += wave[i]\n",
    "\n",
    "slope = (isum * sum_xy - sum_x * sum_y) / (isum * sum_x2 - sum_x * sum_x)\n",
    "intercept = (sum_y - sum_x * slope) / isum\n",
    "\n",
    "line = np.array([x * slope + intercept for x in range(0, len(wave))])\n",
    "wave = wave - line\n",
    "\n",
    "\n",
    "j = 0\n",
    "for energy in energy_lis:\n",
    "    deltat = np.zeros(steps)\n",
    "    rise_true = np.zeros(steps)\n",
    "    rise_cal = np.zeros(steps)\n",
    "    for i in range(0,steps):\n",
    "        pulse, rise_true[i] = sigPulseSpecific(70,50,energy)\n",
    "        wave1 = copy.deepcopy(wave)\n",
    "        wp = wave1[0:15000] + pulse\n",
    "        w_trapTime = get_trap_time(wp)\n",
    "        max = np.mean(wp[11000:15000])\n",
    "        min = np.amin(wp)\n",
    "        m90 = max*0.9\n",
    "        m10 = max*0.1\n",
    "        m50 = max*0.5\n",
    "        imax51 = find_idx(wp, m50, w_trapTime)\n",
    "        imax9 = find_idxr(wp, m90, imax51)\n",
    "        imax1 = find_idx(wp, m10, imax51)\n",
    "        rise_cal[i] = imax9 - imax1\n",
    "        deltat[i] = abs(rise_cal[i] - rise_true[i])\n",
    "    \n",
    "    mean = sum(deltat)/len(deltat)\n",
    "    variance = sum([((x - mean) ** 2) for x in deltat]) / len(deltat)\n",
    "    sig[j] = variance ** 0.5\n",
    "    j += 1"
   ]
  },
  {
   "cell_type": "code",
   "execution_count": 92,
   "metadata": {},
   "outputs": [
    {
     "data": {
      "image/png": "[encoded data removed]",
      "text/plain": [
       "<Figure size 432x288 with 1 Axes>"
      ]
     },
     "metadata": {
      "needs_background": "light"
     },
     "output_type": "display_data"
    }
   ],
   "source": [
    "plt.scatter(energy_lis*0.0408625 -0.16892, sig*8)\n",
    "plt.xlim(0,2)\n",
    "plt.ylim(0,175)\n",
    "plt.xlabel(\"Energy [KeV]\")\n",
    "plt.ylabel(\"Sigma of DeltaT [ns]\")\n",
    "plt.title(\"Sigma DeltaT versus Energy\")\n",
    "plt.rcParams['savefig.facecolor']='white'\n",
    "plt.rcParams['axes.facecolor']='white'\n",
    "plt.savefig(\"images/sigTimeVsEnergy.pdf\", facecolor = \"white\")\n",
    "plt.show()"
   ]
  },
  {
   "cell_type": "code",
   "execution_count": 82,
   "metadata": {},
   "outputs": [
    {
     "name": "stdout",
     "output_type": "stream",
     "text": [
      "10942\n"
     ]
    }
   ],
   "source": [
    "#Here is Method 2 which calculates the rise time by using a starting index and going left till it finds a threshold.\n",
    "#Method 1 also uses an RNG sigmoid pulsar.\n",
    "run_list = 9188\n",
    "data = fd.get_t1_data(run_list, \"Card1\")\n",
    "wave = data[0][\"waveform\"][\"values\"].nda[1]\n",
    "energy_Step = 1000\n",
    "steps = 100\n",
    "nb = 10000\n",
    "energy_lis = np.linspace(10,1250,energy_Step)\n",
    "sig = np.zeros(energy_Step)\n",
    "#correct = np.zeros(nb)\n",
    "#false = np.zeros(nb)\n",
    "\n",
    "cDs = pywt.swt(wave, \"haar\", level=4)\n",
    "threshold = np.zeros_like([0,0,0,0])\n",
    "\n",
    "j=0\n",
    "for cD in cDs:\n",
    "    median_value = median(cD[1])\n",
    "    median_average_deviation = median([abs(number-median_value) for number in cD[1]])\n",
    "    sig1 = median_average_deviation/0.6745\n",
    "    threshold[j] = sig1*np.sqrt(2*np.log(len(wave)))\n",
    "    j+=1\n",
    "\n",
    "j=0\n",
    "for cD in cDs:\n",
    "    cD[1][abs(cD[1]) < threshold[j]] = 0.0\n",
    "    j += 1\n",
    "\n",
    "wave = pywt.iswt(cDs, \"Haar\")\n",
    "\n",
    "mean = np.nan\n",
    "stdev = np.nan\n",
    "slope = np.nan\n",
    "intercept = np.nan\n",
    "\n",
    "\n",
    "sum_x = sum_x2 = sum_xy = sum_y = mean = stdev = 0\n",
    "isum = 15000\n",
    "\n",
    "for i in range(0, 15000, 1):\n",
    "    # the mean and standard deviation\n",
    "        temp = wave[i] - mean\n",
    "        mean += temp / (i + 1)\n",
    "        stdev += temp * (wave[i] - mean)\n",
    "\n",
    "        # linear regression\n",
    "        sum_x += i\n",
    "        sum_x2 += i * i\n",
    "        sum_xy += wave[i] * i\n",
    "        sum_y += wave[i]\n",
    "\n",
    "slope = (isum * sum_xy - sum_x * sum_y) / (isum * sum_x2 - sum_x * sum_x)\n",
    "intercept = (sum_y - sum_x * slope) / isum\n",
    "\n",
    "line = np.array([x * slope + intercept for x in range(0, len(wave))])\n",
    "wave = wave - line\n",
    "energy = 12\n",
    "\n",
    "pulse, rise_true = sigPulseSpecific(70,50,energy)\n",
    "wave1 = copy.deepcopy(wave)\n",
    "wp = wave1[0:15000] + pulse\n",
    "w_trapTime = get_trap_time(wp)\n",
    "max = np.mean(wp[11000:13000])\n",
    "min = np.amin(wp)\n",
    "m90 = max*0.9\n",
    "m10 = max*0.1\n",
    "m50 = max*0.5\n",
    "imax51 = find_idx(wp, m50, w_trapTime)\n",
    "imax9 = find_idxr(wp, m90, imax51)\n",
    "imax1 = find_idx(wp, m10, imax51)\n",
    "rise_cal = imax9 - imax1\n",
    "deltat = abs(rise_cal - rise_true)\n",
    "print(imax51)"
   ]
  },
  {
   "cell_type": "code",
   "execution_count": 88,
   "metadata": {},
   "outputs": [
    {
     "data": {
      "image/png": "[encoded data removed]",
      "text/plain": [
       "<Figure size 432x288 with 1 Axes>"
      ]
     },
     "metadata": {
      "needs_background": "light"
     },
     "output_type": "display_data"
    },
    {
     "name": "stdout",
     "output_type": "stream",
     "text": [
      "789\n",
      "66\n"
     ]
    }
   ],
   "source": [
    "plt.plot(wp)\n",
    "plt.axvline(w_trapTime)\n",
    "plt.axvline(x = imax9, color='r', label = 'T10')\n",
    "plt.axvline(x = imax1, color='g', label = 'T90')\n",
    "plt.axvline(x = imax51, color='b', label = 'T50')\n",
    "plt.axvline(imax51)\n",
    "plt.xlim(9500,12000)\n",
    "plt.show()\n",
    "print(rise_cal)\n",
    "print(rise_true)"
   ]
  },
  {
   "cell_type": "code",
   "execution_count": 64,
   "metadata": {},
   "outputs": [
    {
     "name": "stdout",
     "output_type": "stream",
     "text": [
      "254.65159955555345\n",
      "19.952947032258564\n"
     ]
    }
   ],
   "source": [
    "run_list = 9188\n",
    "data = fd.get_t1_data(run_list, \"Card1\")\n",
    "wave = data[0][\"waveform\"][\"values\"].nda[1][0:13000]\n",
    "\n",
    "mean = sum(wave[1000:10000])/len(wave[1000:10000])\n",
    "variance = sum([((x - mean) ** 2) for x in wave[1000:10000]]) / len(wave[1000:10000])\n",
    "(variance ** 0.5) * 0.0408625 -0.16892\n",
    "print(variance)\n",
    "\n",
    "\n",
    "mean = sum(wp[0:5000])/len(wp[0:5000])\n",
    "variance = sum([((x - mean) ** 2) for x in wp[0:5000]]) / len(wp[0:5000])\n",
    "(variance ** 0.5)\n",
    "print(variance)"
   ]
  },
  {
   "cell_type": "code",
   "execution_count": 84,
   "metadata": {},
   "outputs": [],
   "source": [
    "w_trap = np.zeros(len(wp))\n",
    "\n",
    "rise = int(6/.008)\n",
    "flat = int(0.8/.008)\n",
    "\n",
    "w_trap[0] = wp[0]/rise\n",
    "for i in range(1, rise, 1):\n",
    "    w_trap[i] = w_trap[i - 1] + wp[i] / rise\n",
    "for i in range(rise, rise + flat, 1):\n",
    "    w_trap[i] = w_trap[i - 1] + (wp[i] - wp[i - rise])/rise\n",
    "for i in range(rise + flat, 2 * rise + flat, 1):\n",
    "    w_trap[i] = w_trap[i - 1] + (wp[i] - wp[i - rise] - wp[i - rise - flat])/rise\n",
    "for i in range(2 * rise + flat, len(wp), 1):\n",
    "        w_trap[i] = (\n",
    "        w_trap[i - 1]\n",
    "        + (wp[i]\n",
    "        - wp[i - rise]\n",
    "        - wp[i - rise - flat]\n",
    "        + wp[i - 2 * rise - flat])/rise\n",
    "    )"
   ]
  },
  {
   "cell_type": "code",
   "execution_count": 89,
   "metadata": {},
   "outputs": [
    {
     "data": {
      "image/png": "[encoded data removed]",
      "text/plain": [
       "<Figure size 432x288 with 1 Axes>"
      ]
     },
     "metadata": {
      "needs_background": "light"
     },
     "output_type": "display_data"
    },
    {
     "name": "stdout",
     "output_type": "stream",
     "text": [
      "12.08307942988322\n"
     ]
    }
   ],
   "source": [
    "plt.plot(w_trap)\n",
    "plt.show()\n",
    "print(np.max(w_trap))"
   ]
  },
  {
   "cell_type": "code",
   "execution_count": 31,
   "metadata": {},
   "outputs": [],
   "source": [
    "run_list = 9188\n",
    "data = fd.get_t1_data(run_list, \"Card1\")\n",
    "wave = data[0][\"waveform\"][\"values\"].nda[0][0:15000]\n",
    "\n",
    "w_trap = np.zeros(len(wave))\n",
    "\n",
    "rise = int(6/.008)\n",
    "flat = int(0.8/.008)\n",
    "\n",
    "w_trap[0] = wp[0]/rise\n",
    "for i in range(1, rise, 1):\n",
    "    w_trap[i] = w_trap[i - 1] + wp[i] / rise\n",
    "for i in range(rise, rise + flat, 1):\n",
    "    w_trap[i] = w_trap[i - 1] + (wp[i] - wp[i - rise])/rise\n",
    "for i in range(rise + flat, 2 * rise + flat, 1):\n",
    "    w_trap[i] = w_trap[i - 1] + (wp[i] - wp[i - rise] - wp[i - rise - flat])/rise\n",
    "for i in range(2 * rise + flat, len(wp), 1):\n",
    "        w_trap[i] = (\n",
    "        w_trap[i - 1]\n",
    "        + (wp[i]\n",
    "        - wp[i - rise]\n",
    "        - wp[i - rise - flat]\n",
    "        + wp[i - 2 * rise - flat])/rise\n",
    "    )"
   ]
  },
  {
   "cell_type": "code",
   "execution_count": 32,
   "metadata": {},
   "outputs": [
    {
     "data": {
      "image/png": "[encoded data removed]",
      "text/plain": [
       "<Figure size 432x288 with 1 Axes>"
      ]
     },
     "metadata": {
      "needs_background": "light"
     },
     "output_type": "display_data"
    },
    {
     "name": "stdout",
     "output_type": "stream",
     "text": [
      "10918\n"
     ]
    }
   ],
   "source": [
    "plt.plot(w_trap)\n",
    "plt.show()\n",
    "print(np.argmax(w_trap))"
   ]
  },
  {
   "cell_type": "code",
   "execution_count": null,
   "metadata": {},
   "outputs": [],
   "source": []
  }
 ],
 "metadata": {
  "kernelspec": {
   "display_name": "Python 3.9.14 64-bit",
   "language": "python",
   "name": "python3"
  },
  "language_info": {
   "codemirror_mode": {
    "name": "ipython",
    "version": 3
   },
   "file_extension": ".py",
   "mimetype": "text/x-python",
   "name": "python",
   "nbconvert_exporter": "python",
   "pygments_lexer": "ipython3",
   "version": "3.9.14"
  },
  "orig_nbformat": 4,
  "vscode": {
   "interpreter": {
    "hash": "f9f85f796d01129d0dd105a088854619f454435301f6ffec2fea96ecbd9be4ac"
   }
  }
 },
 "nbformat": 4,
 "nbformat_minor": 2
}
