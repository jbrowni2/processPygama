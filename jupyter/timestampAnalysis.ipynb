{
 "cells": [
  {
   "cell_type": "code",
   "execution_count": 1,
   "metadata": {},
   "outputs": [],
   "source": [
    "import numpy as np\n",
    "import pandas as pd\n",
    "import matplotlib.pyplot as plt\n",
    "import os\n",
    "from scipy import stats\n",
    "from scipy import signal\n",
    "from math import exp\n",
    "import processes.foundation as fd\n",
    "from math import exp, sqrt, pi, erfc\n",
    "from lmfit import Model\n",
    "import csv\n",
    "from scipy.optimize import curve_fit\n",
    "import pywt\n",
    "from statistics import median\n",
    "import copy"
   ]
  },
  {
   "cell_type": "code",
   "execution_count": 5,
   "metadata": {},
   "outputs": [],
   "source": [
    "data2 = fd.get_df(9188, \"Card1\")\n",
    "data = fd.get_t1_data(9188, \"Card1\")"
   ]
  },
  {
   "cell_type": "code",
   "execution_count": 3,
   "metadata": {},
   "outputs": [],
   "source": [
    "data2[\"energy\"] = data2[\"trapEmax\"]*0.0408625 -0.16892"
   ]
  },
  {
   "cell_type": "code",
   "execution_count": 26,
   "metadata": {},
   "outputs": [
    {
     "data": {
      "text/plain": [
       "0      34259632908387\n",
       "1      34259633488287\n",
       "2      34259633488287\n",
       "3      34252175986278\n",
       "4      34252176131639\n",
       "5     161806772310837\n",
       "6      34259634540652\n",
       "7      34259634540652\n",
       "8      34252175986278\n",
       "9      34252176131639\n",
       "10    161806772310837\n",
       "11                  0\n",
       "12                  0\n",
       "13     34259635055544\n",
       "14     34259635488286\n",
       "15     34259635587346\n",
       "16     34259636035318\n",
       "17     34259636095366\n",
       "18     34259636784525\n",
       "19     34259636784525\n",
       "Name: timestamp, dtype: uint64"
      ]
     },
     "execution_count": 26,
     "metadata": {},
     "output_type": "execute_result"
    }
   ],
   "source": [
    "data2[\"timestamp\"][0:20]"
   ]
  },
  {
   "cell_type": "code",
   "execution_count": 24,
   "metadata": {},
   "outputs": [
    {
     "name": "stdout",
     "output_type": "stream",
     "text": [
      "34259633488287\n",
      "34259633488287\n"
     ]
    },
    {
     "data": {
      "image/png": "[encoded data removed]",
      "text/plain": [
       "<Figure size 432x288 with 1 Axes>"
      ]
     },
     "metadata": {
      "needs_background": "light"
     },
     "output_type": "display_data"
    }
   ],
   "source": [
    "i = 1\n",
    "j = 2\n",
    "plt.plot(data[0][\"waveform\"][\"values\"].nda[i], label=\"Waveform 2\")\n",
    "plt.plot(data[0][\"waveform\"][\"values\"].nda[j], label=\"Waveform 1\")\n",
    "plt.legend()\n",
    "plt.xlabel(\"Time [clks]\")\n",
    "plt.ylabel(\"adc\")\n",
    "plt.title(\"Showing Copies of Waveforms\")\n",
    "print(data[0][\"timestamp\"].nda[i])\n",
    "print(data[0][\"timestamp\"].nda[j])\n",
    "plt.show()"
   ]
  },
  {
   "cell_type": "code",
   "execution_count": 27,
   "metadata": {},
   "outputs": [
    {
     "name": "stdout",
     "output_type": "stream",
     "text": [
      "161806772310837\n"
     ]
    },
    {
     "data": {
      "image/png": "[encoded data removed]",
      "text/plain": [
       "<Figure size 432x288 with 1 Axes>"
      ]
     },
     "metadata": {
      "needs_background": "light"
     },
     "output_type": "display_data"
    }
   ],
   "source": [
    "i = 5\n",
    "plt.plot(data[0][\"waveform\"][\"values\"].nda[i], label=\"Waveform 2\")\n",
    "plt.legend()\n",
    "plt.xlabel(\"Time [clks]\")\n",
    "plt.ylabel(\"adc\")\n",
    "plt.title(\"Waveform with Max Timestamp\")\n",
    "print(data[0][\"timestamp\"].nda[i])\n",
    "plt.show()"
   ]
  },
  {
   "cell_type": "code",
   "execution_count": 18,
   "metadata": {},
   "outputs": [],
   "source": [
    "df = fd.get_df(9188, \"Card1\")\n",
    "#data = fd.get_t1_data(1330, \"Card1\")"
   ]
  },
  {
   "cell_type": "code",
   "execution_count": 19,
   "metadata": {},
   "outputs": [
    {
     "data": {
      "text/html": [
       "<div>\n",
       "<style scoped>\n",
       "    .dataframe tbody tr th:only-of-type {\n",
       "        vertical-align: middle;\n",
       "    }\n",
       "\n",
       "    .dataframe tbody tr th {\n",
       "        vertical-align: top;\n",
       "    }\n",
       "\n",
       "    .dataframe thead th {\n",
       "        text-align: right;\n",
       "    }\n",
       "</style>\n",
       "<table border=\"1\" class=\"dataframe\">\n",
       "  <thead>\n",
       "    <tr style=\"text-align: right;\">\n",
       "      <th></th>\n",
       "      <th>channel</th>\n",
       "      <th>timestamp</th>\n",
       "      <th>startEnergy</th>\n",
       "      <th>maxEnergy</th>\n",
       "      <th>trapEmax</th>\n",
       "    </tr>\n",
       "  </thead>\n",
       "  <tbody>\n",
       "    <tr>\n",
       "      <th>0</th>\n",
       "      <td>0</td>\n",
       "      <td>34259632908387</td>\n",
       "      <td>134317535</td>\n",
       "      <td>27</td>\n",
       "      <td>6132.491699</td>\n",
       "    </tr>\n",
       "    <tr>\n",
       "      <th>1</th>\n",
       "      <td>0</td>\n",
       "      <td>34259633488287</td>\n",
       "      <td>134316413</td>\n",
       "      <td>4</td>\n",
       "      <td>4543.745605</td>\n",
       "    </tr>\n",
       "    <tr>\n",
       "      <th>2</th>\n",
       "      <td>0</td>\n",
       "      <td>34259633488287</td>\n",
       "      <td>134316413</td>\n",
       "      <td>4</td>\n",
       "      <td>4543.745605</td>\n",
       "    </tr>\n",
       "    <tr>\n",
       "      <th>3</th>\n",
       "      <td>0</td>\n",
       "      <td>34252175986278</td>\n",
       "      <td>134314664</td>\n",
       "      <td>4294967271</td>\n",
       "      <td>3940.395264</td>\n",
       "    </tr>\n",
       "    <tr>\n",
       "      <th>4</th>\n",
       "      <td>0</td>\n",
       "      <td>34252176131639</td>\n",
       "      <td>134315508</td>\n",
       "      <td>4294967250</td>\n",
       "      <td>4032.402100</td>\n",
       "    </tr>\n",
       "    <tr>\n",
       "      <th>...</th>\n",
       "      <td>...</td>\n",
       "      <td>...</td>\n",
       "      <td>...</td>\n",
       "      <td>...</td>\n",
       "      <td>...</td>\n",
       "    </tr>\n",
       "    <tr>\n",
       "      <th>8377</th>\n",
       "      <td>0</td>\n",
       "      <td>34260883511552</td>\n",
       "      <td>134313928</td>\n",
       "      <td>38</td>\n",
       "      <td>15076.475586</td>\n",
       "    </tr>\n",
       "    <tr>\n",
       "      <th>8378</th>\n",
       "      <td>0</td>\n",
       "      <td>34260880689449</td>\n",
       "      <td>134315145</td>\n",
       "      <td>3</td>\n",
       "      <td>4918.157715</td>\n",
       "    </tr>\n",
       "    <tr>\n",
       "      <th>8379</th>\n",
       "      <td>0</td>\n",
       "      <td>161806772310837</td>\n",
       "      <td>4294967295</td>\n",
       "      <td>4294967295</td>\n",
       "      <td>0.000000</td>\n",
       "    </tr>\n",
       "    <tr>\n",
       "      <th>8380</th>\n",
       "      <td>0</td>\n",
       "      <td>0</td>\n",
       "      <td>4294967295</td>\n",
       "      <td>4294967295</td>\n",
       "      <td>0.000000</td>\n",
       "    </tr>\n",
       "    <tr>\n",
       "      <th>8381</th>\n",
       "      <td>0</td>\n",
       "      <td>0</td>\n",
       "      <td>4294967295</td>\n",
       "      <td>4294967295</td>\n",
       "      <td>0.000000</td>\n",
       "    </tr>\n",
       "  </tbody>\n",
       "</table>\n",
       "<p>8382 rows × 5 columns</p>\n",
       "</div>"
      ],
      "text/plain": [
       "      channel        timestamp  startEnergy   maxEnergy      trapEmax\n",
       "0           0   34259632908387    134317535          27   6132.491699\n",
       "1           0   34259633488287    134316413           4   4543.745605\n",
       "2           0   34259633488287    134316413           4   4543.745605\n",
       "3           0   34252175986278    134314664  4294967271   3940.395264\n",
       "4           0   34252176131639    134315508  4294967250   4032.402100\n",
       "...       ...              ...          ...         ...           ...\n",
       "8377        0   34260883511552    134313928          38  15076.475586\n",
       "8378        0   34260880689449    134315145           3   4918.157715\n",
       "8379        0  161806772310837   4294967295  4294967295      0.000000\n",
       "8380        0                0   4294967295  4294967295      0.000000\n",
       "8381        0                0   4294967295  4294967295      0.000000\n",
       "\n",
       "[8382 rows x 5 columns]"
      ]
     },
     "execution_count": 19,
     "metadata": {},
     "output_type": "execute_result"
    }
   ],
   "source": [
    "df"
   ]
  },
  {
   "cell_type": "code",
   "execution_count": 20,
   "metadata": {},
   "outputs": [],
   "source": [
    "df = df[df[\"timestamp\"] > 0]\n",
    "df = df[df[\"timestamp\"] < 161806772310837]\n",
    "df = df.sort_values(\"timestamp\")"
   ]
  },
  {
   "cell_type": "code",
   "execution_count": 21,
   "metadata": {},
   "outputs": [
    {
     "name": "stdout",
     "output_type": "stream",
     "text": [
      "6613\n"
     ]
    }
   ],
   "source": [
    "repeats = 0\n",
    "num_copies_per_repeat = np.zeros(len(df[\"timestamp\"]))\n",
    "scanning = True\n",
    "copy = False\n",
    "j = 0\n",
    "i = 0\n",
    "while scanning:\n",
    "    check = df[\"timestamp\"].iloc[j+1] - df[\"timestamp\"].iloc[j]\n",
    "    if check == 0:\n",
    "        copy = True\n",
    "        repeats += 1\n",
    "        copy_count = 1\n",
    "    else:\n",
    "        copy = False\n",
    "    \n",
    "    j += 1\n",
    "    if j >= len(df[\"timestamp\"]) - 1:\n",
    "        scanning = False\n",
    "    \n",
    "    while copy:\n",
    "        try:\n",
    "            check = df[\"timestamp\"].iloc[j+1] - df[\"timestamp\"].iloc[j]\n",
    "        except:\n",
    "            print(j)\n",
    "            copy = False\n",
    "            scanning = False\n",
    "            break\n",
    "\n",
    "        if check == 0:\n",
    "            copy = True\n",
    "            repeats += 1\n",
    "            copy_count += 1\n",
    "        else:\n",
    "            copy = False\n",
    "            num_copies_per_repeat[i] = copy_count\n",
    "            i+=1\n",
    "        \n",
    "        j += 1\n",
    "        if j >= len(df[\"timestamp\"]) - 1:\n",
    "            scanning = False\n",
    "\n",
    "    \n",
    "\n"
   ]
  },
  {
   "cell_type": "code",
   "execution_count": 22,
   "metadata": {},
   "outputs": [
    {
     "name": "stdout",
     "output_type": "stream",
     "text": [
      "3112\n",
      "1.85\n"
     ]
    }
   ],
   "source": [
    "print(repeats)\n",
    "print(np.mean(num_copies_per_repeat[0:100]))"
   ]
  },
  {
   "cell_type": "code",
   "execution_count": 78,
   "metadata": {},
   "outputs": [
    {
     "data": {
      "text/plain": [
       "0"
      ]
     },
     "execution_count": 78,
     "metadata": {},
     "output_type": "execute_result"
    }
   ],
   "source": [
    "df[\"timestamp\"].iloc[22089] - df[\"timestamp\"].iloc[22088]"
   ]
  },
  {
   "cell_type": "code",
   "execution_count": 74,
   "metadata": {},
   "outputs": [
    {
     "data": {
      "image/png": "[encoded data removed]",
      "text/plain": [
       "<Figure size 432x288 with 1 Axes>"
      ]
     },
     "metadata": {
      "needs_background": "light"
     },
     "output_type": "display_data"
    }
   ],
   "source": [
    "x = [i for i in range(0,len(df[\"timestamp\"]))]\n",
    "plt.scatter(x[22075:22100], df[\"timestamp\"][22075:22100])\n",
    "plt.show()"
   ]
  },
  {
   "cell_type": "code",
   "execution_count": 2,
   "metadata": {},
   "outputs": [],
   "source": [
    "run_list = [1330, 1331, 1332, 1333]\n",
    "df = fd.get_df_multiple(run_list, \"Card1\")"
   ]
  },
  {
   "cell_type": "code",
   "execution_count": 3,
   "metadata": {},
   "outputs": [],
   "source": [
    "df[\"energy\"] = df[\"trapEmax\"]*0.0408625 -0.16892"
   ]
  },
  {
   "cell_type": "code",
   "execution_count": 53,
   "metadata": {},
   "outputs": [
    {
     "data": {
      "image/png": "[encoded data removed]",
      "text/plain": [
       "<Figure size 432x288 with 1 Axes>"
      ]
     },
     "metadata": {
      "needs_background": "light"
     },
     "output_type": "display_data"
    }
   ],
   "source": [
    "plt.hist(df[\"energy\"], bins=400)\n",
    "plt.yscale(\"log\")\n",
    "plt.xlim(0,1000)\n",
    "plt.show()"
   ]
  },
  {
   "cell_type": "code",
   "execution_count": null,
   "metadata": {},
   "outputs": [],
   "source": []
  }
 ],
 "metadata": {
  "kernelspec": {
   "display_name": "Python 3.9.14 64-bit",
   "language": "python",
   "name": "python3"
  },
  "language_info": {
   "codemirror_mode": {
    "name": "ipython",
    "version": 3
   },
   "file_extension": ".py",
   "mimetype": "text/x-python",
   "name": "python",
   "nbconvert_exporter": "python",
   "pygments_lexer": "ipython3",
   "version": "3.9.14"
  },
  "orig_nbformat": 4,
  "vscode": {
   "interpreter": {
    "hash": "f9f85f796d01129d0dd105a088854619f454435301f6ffec2fea96ecbd9be4ac"
   }
  }
 },
 "nbformat": 4,
 "nbformat_minor": 2
}
