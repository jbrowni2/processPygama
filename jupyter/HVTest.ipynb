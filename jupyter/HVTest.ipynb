{
 "cells": [
  {
   "cell_type": "code",
   "execution_count": 2,
   "metadata": {},
   "outputs": [],
   "source": [
    "import matplotlib.pyplot as plt\n",
    "import pandas as pd\n",
    "import numpy as np\n",
    "import os\n",
    "from scipy import stats\n",
    "from scipy import signal\n",
    "from math import exp\n",
    "import processes.foundation as fd\n",
    "from math import exp, sqrt, pi, erfc\n",
    "from lmfit import Model\n",
    "import csv\n",
    "from pygama import __version__ as pygama_version\n",
    "import pygama\n",
    "import pygama.lgdo as lgdo\n",
    "import pygama.lgdo.lh5_store as lh5\n",
    "import json"
   ]
  },
  {
   "cell_type": "code",
   "execution_count": 26,
   "metadata": {},
   "outputs": [],
   "source": [
    "cwd = os.getcwd()\n",
    "file = cwd + '/address.json'\n",
    "with open(file, 'r') as read_file:\n",
    "    data = json.load(read_file)\n",
    "\n",
    "t1_dir = data['tier1_dir']\n",
    "\n",
    "\n",
    "f_raw = t1_dir + '/Run' + str(6994) + '.lh5'\n",
    "raw_store = lh5.LH5Store()\n",
    "lh5_file = raw_store.gimme_file(f_raw, 'r')\n",
    "\n",
    "lh5_tables = []\n",
    "lh5_keys = lh5.ls(f_raw)\n",
    "buffer_len = 10000000000000000\n",
    "t1_data = []\n",
    "\n",
    "\n",
    "tot_n_rows = raw_store.read_n_rows(lh5_keys[1], f_raw)\n",
    "\n",
    "chan_name = lh5_keys[1].split('/')[0]\n",
    "hv, n_rows_read = raw_store.read_object(lh5_keys[1], f_raw, start_row=0, n_rows=buffer_len)\n"
   ]
  },
  {
   "cell_type": "code",
   "execution_count": 27,
   "metadata": {},
   "outputs": [],
   "source": [
    "dictionary = dict()\n",
    "for col in hv:\n",
    "    dictionary[col] = hv[col].nda\n",
    "\n",
    "df = pd.DataFrame(data=dictionary)"
   ]
  },
  {
   "cell_type": "code",
   "execution_count": 28,
   "metadata": {},
   "outputs": [],
   "source": [
    "df[\"voltage\"] = df[\"voltage\"]/1000000"
   ]
  },
  {
   "cell_type": "code",
   "execution_count": 46,
   "metadata": {},
   "outputs": [
    {
     "data": {
      "text/plain": [
       "Text(0, 0.5, 'Voltage [V]')"
      ]
     },
     "execution_count": 46,
     "metadata": {},
     "output_type": "execute_result"
    },
    {
     "data": {
      "image/png": "[encoded data removed]",
      "text/plain": [
       "<Figure size 640x480 with 1 Axes>"
      ]
     },
     "metadata": {},
     "output_type": "display_data"
    }
   ],
   "source": [
    "plt.plot(df.loc[df[\"channel\"]==0][\"timestamp\"], df.loc[df[\"channel\"]==0][\"voltage\"])\n",
    "\n",
    "plt.ylim(1298, 1299)\n",
    "plt.title(\"Plot of HV For Muon Veto Panels\")\n",
    "plt.xlabel(\"Time [unix]\")\n",
    "plt.ylabel(\"Voltage [V]\")"
   ]
  },
  {
   "cell_type": "code",
   "execution_count": 36,
   "metadata": {},
   "outputs": [
    {
     "data": {
      "text/plain": [
       "0       1298.539063\n",
       "16      1298.539062\n",
       "32      1298.539058\n",
       "48      1298.539057\n",
       "64      1298.539058\n",
       "           ...     \n",
       "3408    1298.539037\n",
       "3424    1298.539036\n",
       "3440    1298.539036\n",
       "3456    1298.539035\n",
       "3472    1298.539034\n",
       "Name: voltage, Length: 218, dtype: float64"
      ]
     },
     "execution_count": 36,
     "metadata": {},
     "output_type": "execute_result"
    }
   ],
   "source": [
    "df.loc[df[\"channel\"]==0][\"voltage\"]"
   ]
  },
  {
   "cell_type": "code",
   "execution_count": 4,
   "metadata": {},
   "outputs": [
    {
     "name": "stdout",
     "output_type": "stream",
     "text": [
      "['Card1', 'HV1']\n"
     ]
    }
   ],
   "source": [
    "cwd = os.getcwd()\n",
    "file = cwd + '/address.json'\n",
    "with open(file, 'r') as read_file:\n",
    "    data = json.load(read_file)\n",
    "\n",
    "t1_dir = data['tier1_dir']\n",
    "\n",
    "\n",
    "f_raw = t1_dir + '/Run' + str(6994) + '.lh5'\n",
    "raw_store = lh5.LH5Store()\n",
    "lh5_file = raw_store.gimme_file(f_raw, 'r')\n",
    "\n",
    "lh5_tables = []\n",
    "lh5_keys = lh5.ls(f_raw)\n",
    "buffer_len = 10000000000000000\n",
    "t1_data = []\n",
    "print(lh5_keys)\n",
    "\n",
    "\n",
    "#tot_n_rows = raw_store.read_n_rows(lh5_keys[1], f_raw)\n",
    "\n",
    "#chan_name = lh5_keys[1].split('/')[0]\n",
    "#hv, n_rows_read = raw_store.read_object(lh5_keys[1], f_raw, start_row=0, n_rows=buffer_len)"
   ]
  },
  {
   "cell_type": "code",
   "execution_count": null,
   "metadata": {},
   "outputs": [],
   "source": []
  }
 ],
 "metadata": {
  "kernelspec": {
   "display_name": "Python 3.9.14 64-bit",
   "language": "python",
   "name": "python3"
  },
  "language_info": {
   "codemirror_mode": {
    "name": "ipython",
    "version": 3
   },
   "file_extension": ".py",
   "mimetype": "text/x-python",
   "name": "python",
   "nbconvert_exporter": "python",
   "pygments_lexer": "ipython3",
   "version": "3.9.14"
  },
  "orig_nbformat": 4,
  "vscode": {
   "interpreter": {
    "hash": "f9f85f796d01129d0dd105a088854619f454435301f6ffec2fea96ecbd9be4ac"
   }
  }
 },
 "nbformat": 4,
 "nbformat_minor": 2
}
